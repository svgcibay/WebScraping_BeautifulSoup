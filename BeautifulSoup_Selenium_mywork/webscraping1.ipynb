{
 "cells": [
  {
   "cell_type": "code",
   "execution_count": 1,
   "metadata": {},
   "outputs": [],
   "source": [
    "from bs4 import BeautifulSoup\n",
    "import requests\n",
    "from selenium import webdriver\n",
    "import re\n",
    "from selenium.webdriver.common.by import By\n",
    "\n",
    "import warnings\n",
    "warnings.filterwarnings(\"ignore\")"
   ]
  },
  {
   "cell_type": "code",
   "execution_count": 3,
   "metadata": {},
   "outputs": [],
   "source": [
    "url = \"https://books.toscrape.com\""
   ]
  },
  {
   "cell_type": "code",
   "execution_count": 5,
   "metadata": {},
   "outputs": [],
   "source": [
    "options = webdriver.ChromeOptions()\n",
    "options.add_argument('--start-maximized')"
   ]
  },
  {
   "cell_type": "code",
   "execution_count": 7,
   "metadata": {},
   "outputs": [],
   "source": [
    "driver = webdriver.Chrome(options=options)\n",
    "driver.get(url)"
   ]
  },
  {
   "cell_type": "code",
   "execution_count": 8,
   "metadata": {},
   "outputs": [],
   "source": [
    "XPATH_query = \"//a[contains(text(),'Travel') or contains(text(),'Nonfiction')]\""
   ]
  },
  {
   "cell_type": "code",
   "execution_count": 9,
   "metadata": {},
   "outputs": [],
   "source": [
    "from selenium.webdriver.common.by import By"
   ]
  },
  {
   "cell_type": "code",
   "execution_count": 13,
   "metadata": {},
   "outputs": [],
   "source": [
    "category_elements = driver.find_elements(By.XPATH , XPATH_query)"
   ]
  },
  {
   "cell_type": "code",
   "execution_count": 15,
   "metadata": {},
   "outputs": [
    {
     "data": {
      "text/plain": [
       "[<selenium.webdriver.remote.webelement.WebElement (session=\"3222453f5285f1ae07ebd2bf37eca44f\", element=\"f.6FEA55ED5DAAF308849D5B16AD802408.d.BB2CC729720913DCD6309567E83EBCCD.e.33\")>,\n",
       " <selenium.webdriver.remote.webelement.WebElement (session=\"3222453f5285f1ae07ebd2bf37eca44f\", element=\"f.6FEA55ED5DAAF308849D5B16AD802408.d.BB2CC729720913DCD6309567E83EBCCD.e.34\")>]"
      ]
     },
     "execution_count": 15,
     "metadata": {},
     "output_type": "execute_result"
    }
   ],
   "source": [
    "category_elements"
   ]
  },
  {
   "cell_type": "code",
   "execution_count": 17,
   "metadata": {},
   "outputs": [
    {
     "data": {
      "text/plain": [
       "['https://books.toscrape.com/catalogue/category/books/travel_2/index.html',\n",
       " 'https://books.toscrape.com/catalogue/category/books/nonfiction_13/index.html']"
      ]
     },
     "execution_count": 17,
     "metadata": {},
     "output_type": "execute_result"
    }
   ],
   "source": [
    "category_urls = [element.get_attribute(\"href\")  for element in category_elements]\n",
    "category_urls"
   ]
  },
  {
   "cell_type": "code",
   "execution_count": 19,
   "metadata": {},
   "outputs": [
    {
     "data": {
      "text/plain": [
       "'https://books.toscrape.com/catalogue/category/books/travel_2/index.html'"
      ]
     },
     "execution_count": 19,
     "metadata": {},
     "output_type": "execute_result"
    }
   ],
   "source": [
    "category_urls[0]"
   ]
  },
  {
   "cell_type": "code",
   "execution_count": 21,
   "metadata": {},
   "outputs": [],
   "source": [
    "driver.get(category_urls[0])"
   ]
  },
  {
   "cell_type": "code",
   "execution_count": 23,
   "metadata": {},
   "outputs": [],
   "source": [
    "book_elements_XPATH = \"//div[@class='image_container']//a\""
   ]
  },
  {
   "cell_type": "code",
   "execution_count": 25,
   "metadata": {},
   "outputs": [
    {
     "name": "stdout",
     "output_type": "stream",
     "text": [
      "['https://books.toscrape.com/catalogue/its-only-the-himalayas_981/index.html', 'https://books.toscrape.com/catalogue/full-moon-over-noahs-ark-an-odyssey-to-mount-ararat-and-beyond_811/index.html', 'https://books.toscrape.com/catalogue/see-america-a-celebration-of-our-national-parks-treasured-sites_732/index.html', 'https://books.toscrape.com/catalogue/vagabonding-an-uncommon-guide-to-the-art-of-long-term-world-travel_552/index.html', 'https://books.toscrape.com/catalogue/under-the-tuscan-sun_504/index.html', 'https://books.toscrape.com/catalogue/a-summer-in-europe_458/index.html', 'https://books.toscrape.com/catalogue/the-great-railway-bazaar_446/index.html', 'https://books.toscrape.com/catalogue/a-year-in-provence-provence-1_421/index.html', 'https://books.toscrape.com/catalogue/the-road-to-little-dribbling-adventures-of-an-american-in-britain-notes-from-a-small-island-2_277/index.html', 'https://books.toscrape.com/catalogue/neither-here-nor-there-travels-in-europe_198/index.html', 'https://books.toscrape.com/catalogue/1000-places-to-see-before-you-die_1/index.html']\n"
     ]
    },
    {
     "data": {
      "text/plain": [
       "11"
      ]
     },
     "execution_count": 25,
     "metadata": {},
     "output_type": "execute_result"
    }
   ],
   "source": [
    "book_elements = driver.find_elements(By.XPATH , book_elements_XPATH)\n",
    "book_urls = [element.get_attribute(\"href\")  for element in book_elements]\n",
    "print(book_urls)\n",
    "len(book_urls)"
   ]
  },
  {
   "cell_type": "code",
   "execution_count": 27,
   "metadata": {},
   "outputs": [
    {
     "name": "stdout",
     "output_type": "stream",
     "text": [
      "['https://books.toscrape.com/catalogue/worlds-elsewhere-journeys-around-shakespeares-globe_972/index.html', 'https://books.toscrape.com/catalogue/the-five-love-languages-how-to-express-heartfelt-commitment-to-your-mate_969/index.html', 'https://books.toscrape.com/catalogue/reasons-to-stay-alive_959/index.html', 'https://books.toscrape.com/catalogue/higherselfie-wake-up-your-life-free-your-soul-find-your-tribe_957/index.html', 'https://books.toscrape.com/catalogue/unseen-city-the-majesty-of-pigeons-the-discreet-charm-of-snails-other-wonders-of-the-urban-wilderness_952/index.html', 'https://books.toscrape.com/catalogue/throwing-rocks-at-the-google-bus-how-growth-became-the-enemy-of-prosperity_948/index.html', 'https://books.toscrape.com/catalogue/the-life-changing-magic-of-tidying-up-the-japanese-art-of-decluttering-and-organizing_936/index.html', 'https://books.toscrape.com/catalogue/the-gutsy-girl-escapades-for-your-life-of-epic-adventure_934/index.html', 'https://books.toscrape.com/catalogue/the-electric-pencil-drawings-from-inside-state-hospital-no-3_933/index.html', 'https://books.toscrape.com/catalogue/spark-joy-an-illustrated-master-class-on-the-art-of-organizing-and-tidying-up_927/index.html', 'https://books.toscrape.com/catalogue/reskilling-america-learning-to-labor-in-the-twenty-first-century_922/index.html', 'https://books.toscrape.com/catalogue/in-the-country-we-love-my-family-divided_901/index.html', 'https://books.toscrape.com/catalogue/everydata-the-misinformation-hidden-in-the-little-data-you-consume-every-day_891/index.html', 'https://books.toscrape.com/catalogue/call-the-nurse-true-stories-of-a-country-nurse-on-a-scottish-isle_885/index.html', 'https://books.toscrape.com/catalogue/algorithms-to-live-by-the-computer-science-of-human-decisions_880/index.html', 'https://books.toscrape.com/catalogue/the-power-of-now-a-guide-to-spiritual-enlightenment_855/index.html', 'https://books.toscrape.com/catalogue/the-omnivores-dilemma-a-natural-history-of-four-meals_854/index.html', 'https://books.toscrape.com/catalogue/the-genius-of-birds_843/index.html', 'https://books.toscrape.com/catalogue/the-artists-way-a-spiritual-path-to-higher-creativity_839/index.html', 'https://books.toscrape.com/catalogue/so-youve-been-publicly-shamed_832/index.html', 'https://books.toscrape.com/catalogue/daring-greatly-how-the-courage-to-be-vulnerable-transforms-the-way-we-live-love-parent-and-lead_799/index.html', 'https://books.toscrape.com/catalogue/big-magic-creative-living-beyond-fear_796/index.html', 'https://books.toscrape.com/catalogue/becoming-wise-an-inquiry-into-the-mystery-and-art-of-living_795/index.html', 'https://books.toscrape.com/catalogue/agnostic-a-spirited-manifesto_786/index.html', 'https://books.toscrape.com/catalogue/whole-lotta-creativity-going-on-60-fun-and-unusual-exercises-to-awaken-and-strengthen-your-creativity_780/index.html', 'https://books.toscrape.com/catalogue/whats-it-like-in-space-stories-from-astronauts-whove-been-there_779/index.html', 'https://books.toscrape.com/catalogue/the-year-of-magical-thinking_770/index.html', 'https://books.toscrape.com/catalogue/the-literature-book-big-ideas-simply-explained_755/index.html', 'https://books.toscrape.com/catalogue/the-bad-ass-librarians-of-timbuktu-and-their-race-to-save-the-worlds-most-precious-manuscripts_745/index.html', 'https://books.toscrape.com/catalogue/swell-a-year-of-waves_740/index.html', 'https://books.toscrape.com/catalogue/no-dream-is-too-high-life-lessons-from-a-man-who-walked-on-the-moon_722/index.html', 'https://books.toscrape.com/catalogue/looking-for-lovely-collecting-the-moments-that-matter_710/index.html', 'https://books.toscrape.com/catalogue/let-it-out-a-journey-through-journaling_708/index.html', 'https://books.toscrape.com/catalogue/hamilton-the-revolution_699/index.html', 'https://books.toscrape.com/catalogue/far-away-places-on-the-brink-of-change-seven-continents-twenty-five-years_694/index.html', 'https://books.toscrape.com/catalogue/eaternity-more-than-150-deliciously-easy-vegan-recipes-for-a-long-healthy-satisfied-joyful-life_689/index.html', 'https://books.toscrape.com/catalogue/buying-in-the-secret-dialogue-between-what-we-buy-and-who-we-are_670/index.html', 'https://books.toscrape.com/catalogue/brain-on-fire-my-month-of-madness_669/index.html', 'https://books.toscrape.com/catalogue/abstract-city_658/index.html', 'https://books.toscrape.com/catalogue/13-hours-the-inside-account-of-what-really-happened-in-benghazi_645/index.html']\n"
     ]
    },
    {
     "data": {
      "text/plain": [
       "40"
      ]
     },
     "execution_count": 27,
     "metadata": {},
     "output_type": "execute_result"
    }
   ],
   "source": [
    "max_pagination = 3\n",
    "url = category_urls[1]\n",
    "book_urls = []\n",
    "for i in range(1,max_pagination):\n",
    "    update_url = url if i==1 else url.replace(\"index\",f\"page-{i}\")\n",
    "    driver.get(update_url)\n",
    "    book_elements = driver.find_elements(By.XPATH , book_elements_XPATH)\n",
    "\n",
    "    temp_urls = [element.get_attribute(\"href\")  for element in book_elements]\n",
    "    book_urls.extend(temp_urls)\n",
    "\n",
    "print(book_urls)\n",
    "len(book_urls)"
   ]
  },
  {
   "cell_type": "code",
   "execution_count": 28,
   "metadata": {},
   "outputs": [
    {
     "name": "stdout",
     "output_type": "stream",
     "text": [
      "['https://books.toscrape.com/catalogue/worlds-elsewhere-journeys-around-shakespeares-globe_972/index.html', 'https://books.toscrape.com/catalogue/the-five-love-languages-how-to-express-heartfelt-commitment-to-your-mate_969/index.html', 'https://books.toscrape.com/catalogue/reasons-to-stay-alive_959/index.html', 'https://books.toscrape.com/catalogue/higherselfie-wake-up-your-life-free-your-soul-find-your-tribe_957/index.html', 'https://books.toscrape.com/catalogue/unseen-city-the-majesty-of-pigeons-the-discreet-charm-of-snails-other-wonders-of-the-urban-wilderness_952/index.html', 'https://books.toscrape.com/catalogue/throwing-rocks-at-the-google-bus-how-growth-became-the-enemy-of-prosperity_948/index.html', 'https://books.toscrape.com/catalogue/the-life-changing-magic-of-tidying-up-the-japanese-art-of-decluttering-and-organizing_936/index.html', 'https://books.toscrape.com/catalogue/the-gutsy-girl-escapades-for-your-life-of-epic-adventure_934/index.html', 'https://books.toscrape.com/catalogue/the-electric-pencil-drawings-from-inside-state-hospital-no-3_933/index.html', 'https://books.toscrape.com/catalogue/spark-joy-an-illustrated-master-class-on-the-art-of-organizing-and-tidying-up_927/index.html', 'https://books.toscrape.com/catalogue/reskilling-america-learning-to-labor-in-the-twenty-first-century_922/index.html', 'https://books.toscrape.com/catalogue/in-the-country-we-love-my-family-divided_901/index.html', 'https://books.toscrape.com/catalogue/everydata-the-misinformation-hidden-in-the-little-data-you-consume-every-day_891/index.html', 'https://books.toscrape.com/catalogue/call-the-nurse-true-stories-of-a-country-nurse-on-a-scottish-isle_885/index.html', 'https://books.toscrape.com/catalogue/algorithms-to-live-by-the-computer-science-of-human-decisions_880/index.html', 'https://books.toscrape.com/catalogue/the-power-of-now-a-guide-to-spiritual-enlightenment_855/index.html', 'https://books.toscrape.com/catalogue/the-omnivores-dilemma-a-natural-history-of-four-meals_854/index.html', 'https://books.toscrape.com/catalogue/the-genius-of-birds_843/index.html', 'https://books.toscrape.com/catalogue/the-artists-way-a-spiritual-path-to-higher-creativity_839/index.html', 'https://books.toscrape.com/catalogue/so-youve-been-publicly-shamed_832/index.html', 'https://books.toscrape.com/catalogue/daring-greatly-how-the-courage-to-be-vulnerable-transforms-the-way-we-live-love-parent-and-lead_799/index.html', 'https://books.toscrape.com/catalogue/big-magic-creative-living-beyond-fear_796/index.html', 'https://books.toscrape.com/catalogue/becoming-wise-an-inquiry-into-the-mystery-and-art-of-living_795/index.html', 'https://books.toscrape.com/catalogue/agnostic-a-spirited-manifesto_786/index.html', 'https://books.toscrape.com/catalogue/whole-lotta-creativity-going-on-60-fun-and-unusual-exercises-to-awaken-and-strengthen-your-creativity_780/index.html', 'https://books.toscrape.com/catalogue/whats-it-like-in-space-stories-from-astronauts-whove-been-there_779/index.html', 'https://books.toscrape.com/catalogue/the-year-of-magical-thinking_770/index.html', 'https://books.toscrape.com/catalogue/the-literature-book-big-ideas-simply-explained_755/index.html', 'https://books.toscrape.com/catalogue/the-bad-ass-librarians-of-timbuktu-and-their-race-to-save-the-worlds-most-precious-manuscripts_745/index.html', 'https://books.toscrape.com/catalogue/swell-a-year-of-waves_740/index.html', 'https://books.toscrape.com/catalogue/no-dream-is-too-high-life-lessons-from-a-man-who-walked-on-the-moon_722/index.html', 'https://books.toscrape.com/catalogue/looking-for-lovely-collecting-the-moments-that-matter_710/index.html', 'https://books.toscrape.com/catalogue/let-it-out-a-journey-through-journaling_708/index.html', 'https://books.toscrape.com/catalogue/hamilton-the-revolution_699/index.html', 'https://books.toscrape.com/catalogue/far-away-places-on-the-brink-of-change-seven-continents-twenty-five-years_694/index.html', 'https://books.toscrape.com/catalogue/eaternity-more-than-150-deliciously-easy-vegan-recipes-for-a-long-healthy-satisfied-joyful-life_689/index.html', 'https://books.toscrape.com/catalogue/buying-in-the-secret-dialogue-between-what-we-buy-and-who-we-are_670/index.html', 'https://books.toscrape.com/catalogue/brain-on-fire-my-month-of-madness_669/index.html', 'https://books.toscrape.com/catalogue/abstract-city_658/index.html', 'https://books.toscrape.com/catalogue/13-hours-the-inside-account-of-what-really-happened-in-benghazi_645/index.html']\n"
     ]
    },
    {
     "data": {
      "text/plain": [
       "40"
      ]
     },
     "execution_count": 28,
     "metadata": {},
     "output_type": "execute_result"
    }
   ],
   "source": [
    "max_pagination = 3\n",
    "url = category_urls[1]\n",
    "book_urls = []\n",
    "for i in range(1,max_pagination):\n",
    "    update_url = url if i==1 else url.replace(\"index\",f\"page-{i}\")\n",
    "    driver.get(update_url)\n",
    "    book_elements = driver.find_elements(By.XPATH , book_elements_XPATH)\n",
    "\n",
    "    if not book_elements:\n",
    "        break\n",
    "\n",
    "    temp_urls = [element.get_attribute(\"href\")  for element in book_elements]\n",
    "    book_urls.extend(temp_urls)\n",
    "\n",
    "print(book_urls)\n",
    "len(book_urls)"
   ]
  },
  {
   "cell_type": "code",
   "execution_count": 31,
   "metadata": {},
   "outputs": [],
   "source": [
    "driver.get(book_urls[0])\n",
    "content_div = driver.find_elements(By.XPATH,\"//div[@class='content']\")"
   ]
  },
  {
   "cell_type": "code",
   "execution_count": 33,
   "metadata": {},
   "outputs": [],
   "source": [
    "innerHTML = content_div[0].get_attribute(\"innerHTML\")"
   ]
  },
  {
   "cell_type": "code",
   "execution_count": 35,
   "metadata": {},
   "outputs": [],
   "source": [
    "from bs4 import BeautifulSoup\n",
    "soup = BeautifulSoup(innerHTML,\"html.parser\")"
   ]
  },
  {
   "cell_type": "code",
   "execution_count": 37,
   "metadata": {},
   "outputs": [
    {
     "data": {
      "text/plain": [
       "\n",
       "<div id=\"promotions\">\n",
       "</div>\n",
       "<div id=\"content_inner\">\n",
       "<article class=\"product_page\"><!-- Start of product page -->\n",
       "<div class=\"row\">\n",
       "<div class=\"col-sm-6\">\n",
       "<div class=\"carousel\" id=\"product_gallery\">\n",
       "<div class=\"thumbnail\">\n",
       "<div class=\"carousel-inner\">\n",
       "<div class=\"item active\">\n",
       "<img alt=\"Worlds Elsewhere: Journeys Around Shakespeare’s Globe\" src=\"../../media/cache/7b/d9/7bd93db091d736d0c6ff9d578e3ba3d7.jpg\"/>\n",
       "</div>\n",
       "</div>\n",
       "</div>\n",
       "</div>\n",
       "</div>\n",
       "<div class=\"col-sm-6 product_main\">\n",
       "<h1>Worlds Elsewhere: Journeys Around Shakespeare’s Globe</h1>\n",
       "<p class=\"price_color\">£40.30</p>\n",
       "<p class=\"instock availability\">\n",
       "<i class=\"icon-ok\"></i>\n",
       "    \n",
       "        In stock (18 available)\n",
       "    \n",
       "</p>\n",
       "<p class=\"star-rating Five\">\n",
       "<i class=\"icon-star\"></i>\n",
       "<i class=\"icon-star\"></i>\n",
       "<i class=\"icon-star\"></i>\n",
       "<i class=\"icon-star\"></i>\n",
       "<i class=\"icon-star\"></i>\n",
       "<!-- <small><a href=\"/catalogue/worlds-elsewhere-journeys-around-shakespeares-globe_972/reviews/\">\n",
       "        \n",
       "                \n",
       "                    0 customer reviews\n",
       "                \n",
       "        </a></small>\n",
       "         --> \n",
       "\n",
       "\n",
       "<!-- \n",
       "    <a id=\"write_review\" href=\"/catalogue/worlds-elsewhere-journeys-around-shakespeares-globe_972/reviews/add/#addreview\" class=\"btn btn-success btn-sm\">\n",
       "        Write a review\n",
       "    </a>\n",
       "\n",
       " --></p>\n",
       "<hr/>\n",
       "<div class=\"alert alert-warning\" role=\"alert\"><strong>Warning!</strong> This is a demo website for web scraping purposes. Prices and ratings here were randomly assigned and have no real meaning.</div>\n",
       "</div><!-- /col-sm-6 -->\n",
       "</div><!-- /row -->\n",
       "<div class=\"sub-header\" id=\"product_description\">\n",
       "<h2>Product Description</h2>\n",
       "</div>\n",
       "<p>Anti-apartheid activist, Bollywood screenwriter, Nazi pin-up, hero of the Wild West: this is Shakespeare as you have never seen him before.From the sixteenth-century Baltic to the American Revolution, from colonial India to the skyscrapers of modern-day Shanghai, Shakespeare’s plays appear at the most fascinating of times and in the most unexpected of places. No other writ Anti-apartheid activist, Bollywood screenwriter, Nazi pin-up, hero of the Wild West: this is Shakespeare as you have never seen him before.From the sixteenth-century Baltic to the American Revolution, from colonial India to the skyscrapers of modern-day Shanghai, Shakespeare’s plays appear at the most fascinating of times and in the most unexpected of places. No other writer’s work has been performed, translated, adapted and altered in such a remarkable variety of cultures and languages. But what is it about William Shakespeare – a man from Warwickshire who never once set foot outside England – that has made him at home in so many places around the globe?Travelling across four continents, six countries and 400 years, Andrew Dickson takes us on a personal journey rich in insight and surprise. We enter the air-conditioned vault deep beneath Capitol Hill where the world’s largest collection of First Folios is stored; discover the shadowy history of Joseph Goebbels’s obsession with Shakespeare; and uncover the true story behind the scuffed edition in which Nelson Mandela and fellow Robben Island prisoners inscribed their names. Both cultural history and literary travelogue, Worlds Elsewhere is an attempt to understand how Shakespeare has become the international phenomenon he is – and why.\"There were very few pages on which I didn’t learn something new or revelatory. A must-read for anyone interested in Shakespeare’s impact on people and politics around the globe\" (James Shapiro, author of 1599: A Year in the Life of William Shakespeare)\"Immensely well-informed and highly readable. A revelatory journey of cultural exploration\" (Professor Stanley Wells, General Editor of the Oxford and Penguin Shakespeares)\"Brilliantly original. Absolutely engaging, witty and irresistible. What’s most remarkable: he’s said something new about Shakespeare\" (Michael Pye, author of The Edge of the World)\"A truly original book about Shakespeare: one that explores the dramatist's global reach with tenacity, devotion and an exhilarating spirit of adventure\" (Michael Billington) ...more</p>\n",
       "<div class=\"sub-header\">\n",
       "<h2>Product Information</h2>\n",
       "</div>\n",
       "<table class=\"table table-striped\">\n",
       "<tbody><tr>\n",
       "<th>UPC</th><td>4c28def39d850cdf</td>\n",
       "</tr>\n",
       "<tr>\n",
       "<th>Product Type</th><td>Books</td>\n",
       "</tr>\n",
       "<tr>\n",
       "<th>Price (excl. tax)</th><td>£40.30</td>\n",
       "</tr>\n",
       "<tr>\n",
       "<th>Price (incl. tax)</th><td>£40.30</td>\n",
       "</tr>\n",
       "<tr>\n",
       "<th>Tax</th><td>£0.00</td>\n",
       "</tr>\n",
       "<tr>\n",
       "<th>Availability</th>\n",
       "<td>In stock (18 available)</td>\n",
       "</tr>\n",
       "<tr>\n",
       "<th>Number of reviews</th>\n",
       "<td>0</td>\n",
       "</tr>\n",
       "</tbody></table>\n",
       "<section>\n",
       "<div class=\"sub-header\" id=\"reviews\">\n",
       "</div>\n",
       "</section>\n",
       "<div class=\"sub-header\">\n",
       "<h2>Products you recently viewed</h2>\n",
       "</div>\n",
       "<ul class=\"row\">\n",
       "<li class=\"col-xs-6 col-sm-4 col-md-3 col-lg-3\">\n",
       "<article class=\"product_pod\">\n",
       "<div class=\"image_container\">\n",
       "<a href=\"../choosing-our-religion-the-spiritual-lives-of-americas-nones_14/index.html\"><img alt=\"Choosing Our Religion: The Spiritual Lives of America's Nones\" class=\"thumbnail\" src=\"../../media/cache/df/ab/dfabeab158046237ddb6b713b794909f.jpg\"/></a>\n",
       "</div>\n",
       "<p class=\"star-rating Four\">\n",
       "<i class=\"icon-star\"></i>\n",
       "<i class=\"icon-star\"></i>\n",
       "<i class=\"icon-star\"></i>\n",
       "<i class=\"icon-star\"></i>\n",
       "<i class=\"icon-star\"></i>\n",
       "</p>\n",
       "<h3><a href=\"../choosing-our-religion-the-spiritual-lives-of-americas-nones_14/index.html\" title=\"Choosing Our Religion: The Spiritual Lives of America's Nones\">Choosing Our Religion: The ...</a></h3>\n",
       "<div class=\"product_price\">\n",
       "<p class=\"price_color\">£28.42</p>\n",
       "<p class=\"instock availability\">\n",
       "<i class=\"icon-ok\"></i>\n",
       "    \n",
       "        In stock\n",
       "    \n",
       "</p>\n",
       "<form>\n",
       "<button class=\"btn btn-primary btn-block\" data-loading-text=\"Adding...\" type=\"submit\">Add to basket</button>\n",
       "</form>\n",
       "</div>\n",
       "</article>\n",
       "</li>\n",
       "<li class=\"col-xs-6 col-sm-4 col-md-3 col-lg-3\">\n",
       "<article class=\"product_pod\">\n",
       "<div class=\"image_container\">\n",
       "<a href=\"../the-bhagavad-gita_60/index.html\"><img alt=\"The Bhagavad Gita\" class=\"thumbnail\" src=\"../../media/cache/4e/69/4e69dacc99de838814d0f65c94e67f6c.jpg\"/></a>\n",
       "</div>\n",
       "<p class=\"star-rating Three\">\n",
       "<i class=\"icon-star\"></i>\n",
       "<i class=\"icon-star\"></i>\n",
       "<i class=\"icon-star\"></i>\n",
       "<i class=\"icon-star\"></i>\n",
       "<i class=\"icon-star\"></i>\n",
       "</p>\n",
       "<h3><a href=\"../the-bhagavad-gita_60/index.html\" title=\"The Bhagavad Gita\">The Bhagavad Gita</a></h3>\n",
       "<div class=\"product_price\">\n",
       "<p class=\"price_color\">£57.49</p>\n",
       "<p class=\"instock availability\">\n",
       "<i class=\"icon-ok\"></i>\n",
       "    \n",
       "        In stock\n",
       "    \n",
       "</p>\n",
       "<form>\n",
       "<button class=\"btn btn-primary btn-block\" data-loading-text=\"Adding...\" type=\"submit\">Add to basket</button>\n",
       "</form>\n",
       "</div>\n",
       "</article>\n",
       "</li>\n",
       "<li class=\"col-xs-6 col-sm-4 col-md-3 col-lg-3\">\n",
       "<article class=\"product_pod\">\n",
       "<div class=\"image_container\">\n",
       "<a href=\"../a-history-of-god-the-4000-year-quest-of-judaism-christianity-and-islam_310/index.html\"><img alt=\"A History of God: The 4,000-Year Quest of Judaism, Christianity, and Islam\" class=\"thumbnail\" src=\"../../media/cache/71/91/7191a7d76eb6c3a18259541e2c038ae3.jpg\"/></a>\n",
       "</div>\n",
       "<p class=\"star-rating One\">\n",
       "<i class=\"icon-star\"></i>\n",
       "<i class=\"icon-star\"></i>\n",
       "<i class=\"icon-star\"></i>\n",
       "<i class=\"icon-star\"></i>\n",
       "<i class=\"icon-star\"></i>\n",
       "</p>\n",
       "<h3><a href=\"../a-history-of-god-the-4000-year-quest-of-judaism-christianity-and-islam_310/index.html\" title=\"A History of God: The 4,000-Year Quest of Judaism, Christianity, and Islam\">A History of God: ...</a></h3>\n",
       "<div class=\"product_price\">\n",
       "<p class=\"price_color\">£27.62</p>\n",
       "<p class=\"instock availability\">\n",
       "<i class=\"icon-ok\"></i>\n",
       "    \n",
       "        In stock\n",
       "    \n",
       "</p>\n",
       "<form>\n",
       "<button class=\"btn btn-primary btn-block\" data-loading-text=\"Adding...\" type=\"submit\">Add to basket</button>\n",
       "</form>\n",
       "</div>\n",
       "</article>\n",
       "</li>\n",
       "<li class=\"col-xs-6 col-sm-4 col-md-3 col-lg-3\">\n",
       "<article class=\"product_pod\">\n",
       "<div class=\"image_container\">\n",
       "<a href=\"../the-book-of-mormon_571/index.html\"><img alt=\"The Book of Mormon\" class=\"thumbnail\" src=\"../../media/cache/83/db/83dbf86eb0fed1d99de2148eac4eb064.jpg\"/></a>\n",
       "</div>\n",
       "<p class=\"star-rating Three\">\n",
       "<i class=\"icon-star\"></i>\n",
       "<i class=\"icon-star\"></i>\n",
       "<i class=\"icon-star\"></i>\n",
       "<i class=\"icon-star\"></i>\n",
       "<i class=\"icon-star\"></i>\n",
       "</p>\n",
       "<h3><a href=\"../the-book-of-mormon_571/index.html\" title=\"The Book of Mormon\">The Book of Mormon</a></h3>\n",
       "<div class=\"product_price\">\n",
       "<p class=\"price_color\">£24.57</p>\n",
       "<p class=\"instock availability\">\n",
       "<i class=\"icon-ok\"></i>\n",
       "    \n",
       "        In stock\n",
       "    \n",
       "</p>\n",
       "<form>\n",
       "<button class=\"btn btn-primary btn-block\" data-loading-text=\"Adding...\" type=\"submit\">Add to basket</button>\n",
       "</form>\n",
       "</div>\n",
       "</article>\n",
       "</li>\n",
       "<li class=\"col-xs-6 col-sm-4 col-md-3 col-lg-3\">\n",
       "<article class=\"product_pod\">\n",
       "<div class=\"image_container\">\n",
       "<a href=\"../god-the-most-unpleasant-character-in-all-fiction_697/index.html\"><img alt=\"God: The Most Unpleasant Character in All Fiction\" class=\"thumbnail\" src=\"../../media/cache/1f/db/1fdb125bcb8cee71f3404b4dc293348c.jpg\"/></a>\n",
       "</div>\n",
       "<p class=\"star-rating Five\">\n",
       "<i class=\"icon-star\"></i>\n",
       "<i class=\"icon-star\"></i>\n",
       "<i class=\"icon-star\"></i>\n",
       "<i class=\"icon-star\"></i>\n",
       "<i class=\"icon-star\"></i>\n",
       "</p>\n",
       "<h3><a href=\"../god-the-most-unpleasant-character-in-all-fiction_697/index.html\" title=\"God: The Most Unpleasant Character in All Fiction\">God: The Most Unpleasant ...</a></h3>\n",
       "<div class=\"product_price\">\n",
       "<p class=\"price_color\">£30.03</p>\n",
       "<p class=\"instock availability\">\n",
       "<i class=\"icon-ok\"></i>\n",
       "    \n",
       "        In stock\n",
       "    \n",
       "</p>\n",
       "<form>\n",
       "<button class=\"btn btn-primary btn-block\" data-loading-text=\"Adding...\" type=\"submit\">Add to basket</button>\n",
       "</form>\n",
       "</div>\n",
       "</article>\n",
       "</li>\n",
       "<li class=\"col-xs-6 col-sm-4 col-md-3 col-lg-3\">\n",
       "<article class=\"product_pod\">\n",
       "<div class=\"image_container\">\n",
       "<a href=\"../you-are-what-you-love-the-spiritual-power-of-habit_872/index.html\"><img alt=\"You Are What You Love: The Spiritual Power of Habit\" class=\"thumbnail\" src=\"../../media/cache/6b/70/6b70f2cdb17d9ab7551240a88b9211fe.jpg\"/></a>\n",
       "</div>\n",
       "<p class=\"star-rating Four\">\n",
       "<i class=\"icon-star\"></i>\n",
       "<i class=\"icon-star\"></i>\n",
       "<i class=\"icon-star\"></i>\n",
       "<i class=\"icon-star\"></i>\n",
       "<i class=\"icon-star\"></i>\n",
       "</p>\n",
       "<h3><a href=\"../you-are-what-you-love-the-spiritual-power-of-habit_872/index.html\" title=\"You Are What You Love: The Spiritual Power of Habit\">You Are What You ...</a></h3>\n",
       "<div class=\"product_price\">\n",
       "<p class=\"price_color\">£21.87</p>\n",
       "<p class=\"instock availability\">\n",
       "<i class=\"icon-ok\"></i>\n",
       "    \n",
       "        In stock\n",
       "    \n",
       "</p>\n",
       "<form>\n",
       "<button class=\"btn btn-primary btn-block\" data-loading-text=\"Adding...\" type=\"submit\">Add to basket</button>\n",
       "</form>\n",
       "</div>\n",
       "</article>\n",
       "</li>\n",
       "</ul>\n",
       "</article><!-- End of product page -->\n",
       "</div>"
      ]
     },
     "execution_count": 37,
     "metadata": {},
     "output_type": "execute_result"
    }
   ],
   "source": [
    "soup"
   ]
  },
  {
   "cell_type": "markdown",
   "metadata": {},
   "source": [
    "Kitap Adı\n",
    "▪ Kitap Fiyatı\n",
    "▪ Kitap Yıldız Sayısı\n",
    "▪ Kitap Açıklaması\n",
    "▪ Product Information Başlığı altında kalan tablodaki bilgiler."
   ]
  },
  {
   "cell_type": "code",
   "execution_count": 40,
   "metadata": {},
   "outputs": [
    {
     "data": {
      "text/plain": [
       "'Worlds Elsewhere: Journeys Around Shakespeare’s Globe'"
      ]
     },
     "execution_count": 40,
     "metadata": {},
     "output_type": "execute_result"
    }
   ],
   "source": [
    "book_name = soup.find('h1').text\n",
    "book_name"
   ]
  },
  {
   "cell_type": "code",
   "execution_count": 42,
   "metadata": {},
   "outputs": [
    {
     "name": "stdout",
     "output_type": "stream",
     "text": [
      "<p class=\"star-rating Five\">\n",
      "<i class=\"icon-star\"></i>\n",
      "<i class=\"icon-star\"></i>\n",
      "<i class=\"icon-star\"></i>\n",
      "<i class=\"icon-star\"></i>\n",
      "<i class=\"icon-star\"></i>\n",
      "<!-- <small><a href=\"/catalogue/worlds-elsewhere-journeys-around-shakespeares-globe_972/reviews/\">\n",
      "        \n",
      "                \n",
      "                    0 customer reviews\n",
      "                \n",
      "        </a></small>\n",
      "         --> \n",
      "\n",
      "\n",
      "<!-- \n",
      "    <a id=\"write_review\" href=\"/catalogue/worlds-elsewhere-journeys-around-shakespeares-globe_972/reviews/add/#addreview\" class=\"btn btn-success btn-sm\">\n",
      "        Write a review\n",
      "    </a>\n",
      "\n",
      " --></p>\n"
     ]
    }
   ],
   "source": [
    "regex = re.compile('^star-rating ')\n",
    "star_elem = soup.find(\"p\" , attrs={\"class\": regex})\n",
    "print(star_elem)"
   ]
  },
  {
   "cell_type": "code",
   "execution_count": 44,
   "metadata": {},
   "outputs": [
    {
     "data": {
      "text/plain": [
       "'Five'"
      ]
     },
     "execution_count": 44,
     "metadata": {},
     "output_type": "execute_result"
    }
   ],
   "source": [
    "book_star_count = star_elem['class'][-1]\n",
    "book_star_count"
   ]
  },
  {
   "cell_type": "code",
   "execution_count": 46,
   "metadata": {},
   "outputs": [],
   "source": [
    "product_info = {}\n",
    "table_rows = soup.find(\"table\").find_all(\"tr\")"
   ]
  },
  {
   "cell_type": "code",
   "execution_count": 48,
   "metadata": {},
   "outputs": [],
   "source": [
    "for i in table_rows:\n",
    "    key = i.find(\"th\").text\n",
    "    value = i.find(\"td\").text\n",
    "    product_info[key] = value"
   ]
  },
  {
   "cell_type": "code",
   "execution_count": 50,
   "metadata": {},
   "outputs": [
    {
     "data": {
      "text/plain": [
       "{'UPC': '4c28def39d850cdf',\n",
       " 'Product Type': 'Books',\n",
       " 'Price (excl. tax)': '£40.30',\n",
       " 'Price (incl. tax)': '£40.30',\n",
       " 'Tax': '£0.00',\n",
       " 'Availability': 'In stock (18 available)',\n",
       " 'Number of reviews': '0'}"
      ]
     },
     "execution_count": 50,
     "metadata": {},
     "output_type": "execute_result"
    }
   ],
   "source": [
    "product_info"
   ]
  },
  {
   "cell_type": "code",
   "execution_count": 52,
   "metadata": {},
   "outputs": [],
   "source": [
    "def get_driver():\n",
    "    options = webdriver.ChromeOptions()\n",
    "    options.add_argument('--start-maximized')\n",
    "    driver = webdriver.Chrome(options=options)\n",
    "    return driver"
   ]
  },
  {
   "cell_type": "code",
   "execution_count": 54,
   "metadata": {},
   "outputs": [],
   "source": [
    "def get_category_urls(driver,url, category_name):\n",
    "        \n",
    "    driver.get(url)\n",
    "\n",
    "    category_elements_xpath = f\"//a[contains(text(), '{category_name}')]\"\n",
    "    category_elements = driver.find_elements(By.XPATH , category_elements_xpath)\n",
    "    category_urls = [element.get_attribute(\"href\")  for element in category_elements]\n",
    "\n",
    "    return category_urls"
   ]
  },
  {
   "cell_type": "code",
   "execution_count": 56,
   "metadata": {},
   "outputs": [
    {
     "data": {
      "text/plain": [
       "['https://books.toscrape.com/catalogue/category/books/travel_2/index.html']"
      ]
     },
     "execution_count": 56,
     "metadata": {},
     "output_type": "execute_result"
    }
   ],
   "source": [
    "get_category_urls(get_driver(),url,'Travel')"
   ]
  },
  {
   "cell_type": "code",
   "execution_count": 57,
   "metadata": {},
   "outputs": [],
   "source": [
    "def get_books_url(driver,url):\n",
    "\n",
    "    max_pagination = 3\n",
    "    book_urls = []\n",
    "    book_elements_XPATH = \"//div[@class='image_container']//a\"\n",
    "\n",
    "    for i in range(1,max_pagination):\n",
    "        updated_url = url if i==1 else url.replace(\"index\",f\"page-{i}\")\n",
    "        driver.get(updated_url)\n",
    "        book_elements = driver.find_elements(By.XPATH , book_elements_XPATH)\n",
    "\n",
    "        temp_urls = [element.get_attribute(\"href\")  for element in book_elements]\n",
    "        book_urls.extend(temp_urls)\n",
    "\n",
    "        if not book_elements:\n",
    "            break\n",
    "\n",
    "        temp_urls = [element.get_attribute(\"href\")  for element in book_elements]\n",
    "        book_urls.extend(temp_urls)\n",
    "        \n",
    "        return book_urls"
   ]
  },
  {
   "cell_type": "code",
   "execution_count": 60,
   "metadata": {},
   "outputs": [],
   "source": [
    "get_books_url(get_driver(),'https://books.toscrape.com/catalogue/category/books/travel_2/index.html')"
   ]
  },
  {
   "cell_type": "code",
   "execution_count": 62,
   "metadata": {},
   "outputs": [],
   "source": [
    "def get_book_detail(driver,url):\n",
    "    driver.get(url)\n",
    "    content_div = driver.find_elements(By.XPATH,\"//div[@class='content']\")\n",
    "\n",
    "    innerHTML = content_div[0].get_attribute(\"innerHTML\")\n",
    "    soup = BeautifulSoup(innerHTML,\"html.parser\")\n",
    "\n",
    "    book_name = soup.find('h1').text\n",
    "\n",
    "    regex = re.compile('^star-rating ')\n",
    "    star_elem = soup.find(\"p\" , attrs={\"class\": regex})\n",
    "    book_star_count = star_elem['class'][-1]\n",
    "\n",
    "    description_elem = soup.find(\"div\",attrs={\"id\":\"product_description\"}).find_next_sibling().text\n",
    "    \n",
    "    product_info = {}\n",
    "    table_rows = soup.find(\"table\").find_all(\"tr\")\n",
    "    for i in table_rows:\n",
    "        key = i.find(\"th\").text\n",
    "        value = i.find(\"td\").text\n",
    "        product_info[key] = value\n",
    "    \n",
    "    return {'book_name':book_name , 'book_star':book_star_count ,'book_desc':description_elem ,**product_info}"
   ]
  },
  {
   "cell_type": "code",
   "execution_count": 64,
   "metadata": {},
   "outputs": [
    {
     "data": {
      "text/plain": [
       "{'book_name': 'A Summer In Europe',\n",
       " 'book_star': 'Two',\n",
       " 'book_desc': 'On her thirtieth birthday, Gwendolyn Reese receives an unexpected present from her widowed Aunt Bea: a grand tour of Europe in the company of Bea\\'s Sudoku and Mahjongg Club. The prospect isn\\'t entirely appealing. But when the gift she is expecting--an engagement ring from her boyfriend--doesn\\'t materialize, Gwen decides to go. At first, Gwen approaches the trip as if it\\'s On her thirtieth birthday, Gwendolyn Reese receives an unexpected present from her widowed Aunt Bea: a grand tour of Europe in the company of Bea\\'s Sudoku and Mahjongg Club. The prospect isn\\'t entirely appealing. But when the gift she is expecting--an engagement ring from her boyfriend--doesn\\'t materialize, Gwen decides to go. At first, Gwen approaches the trip as if it\\'s the math homework she assigns her students, diligently checking monuments off her must-see list. But amid the bougainvillea and stunning vistas of southern Italy, something changes. Gwen begins to live in the moment--skipping down stone staircases in Capri, running her fingers over a glacier in view of the Matterhorn, racing through the Louvre, and taste-testing pastries at a Marseilles cafe. Reveling in every new experience--especially her attraction to a charismatic British physics professor--Gwen discovers that the ancient wonders around her are nothing compared to the renaissance unfolding within. . . \"A thinking woman\\'s love story, it swept me away to breathtaking places with a cast of endearing characters I won\\'t soon forget. Bravissima!\" Susan McBride, author of \"Little Black Dress\" Praise for Marilyn Brant\\'s According to Jane \"A warm, witty and charmingly original story.\" --Susan Wiggs, \"New York Times \" bestselling author \"Brant infuses her sweetly romantic and delightfully clever tale with just the right dash of Austen-esque wit.\" \"Chicago Tribune\" \"An engaging read for all who have been through the long, dark, dating wars, and still believe there\\'s sunshine, and a Mr. Darcy, at the end of the tunnel.\" --Cathy Lamb, author of \"Such a Pretty Face\"\" ...more',\n",
       " 'UPC': 'cc1936a9f4e93477',\n",
       " 'Product Type': 'Books',\n",
       " 'Price (excl. tax)': '£44.34',\n",
       " 'Price (incl. tax)': '£44.34',\n",
       " 'Tax': '£0.00',\n",
       " 'Availability': 'In stock (7 available)',\n",
       " 'Number of reviews': '0'}"
      ]
     },
     "execution_count": 64,
     "metadata": {},
     "output_type": "execute_result"
    }
   ],
   "source": [
    "get_book_detail(get_driver(),'https://books.toscrape.com/catalogue/a-summer-in-europe_458/index.html')"
   ]
  },
  {
   "cell_type": "code",
   "execution_count": null,
   "metadata": {},
   "outputs": [],
   "source": []
  },
  {
   "cell_type": "code",
   "execution_count": null,
   "metadata": {},
   "outputs": [],
   "source": []
  }
 ],
 "metadata": {
  "kernelspec": {
   "display_name": "Python 3 (ipykernel)",
   "language": "python",
   "name": "python3"
  },
  "language_info": {
   "codemirror_mode": {
    "name": "ipython",
    "version": 3
   },
   "file_extension": ".py",
   "mimetype": "text/x-python",
   "name": "python",
   "nbconvert_exporter": "python",
   "pygments_lexer": "ipython3",
   "version": "3.12.4"
  }
 },
 "nbformat": 4,
 "nbformat_minor": 4
}
