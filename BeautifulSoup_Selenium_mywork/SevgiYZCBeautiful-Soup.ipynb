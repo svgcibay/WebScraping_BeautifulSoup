{
 "cells": [
  {
   "cell_type": "markdown",
   "id": "3762b822-cf01-41b2-bf1b-f5bc3f3abd3e",
   "metadata": {},
   "source": [
    "# BEAUTIFULSOUP "
   ]
  },
  {
   "cell_type": "code",
   "execution_count": 15,
   "id": "1475bbc6-ca98-417e-9202-9476ef937f84",
   "metadata": {},
   "outputs": [
    {
     "name": "stdout",
     "output_type": "stream",
     "text": [
      "Requirement already satisfied: beautifulsoup4 in /opt/anaconda3/lib/python3.12/site-packages (4.12.3)\n",
      "Requirement already satisfied: soupsieve>1.2 in /opt/anaconda3/lib/python3.12/site-packages (from beautifulsoup4) (2.5)\n",
      "Note: you may need to restart the kernel to use updated packages.\n"
     ]
    }
   ],
   "source": [
    "pip install beautifulsoup4"
   ]
  },
  {
   "cell_type": "code",
   "execution_count": 16,
   "id": "a094acce-348a-4257-afe7-6a790fe3341d",
   "metadata": {},
   "outputs": [],
   "source": [
    "from bs4 import BeautifulSoup"
   ]
  },
  {
   "cell_type": "code",
   "execution_count": 17,
   "id": "5ecdf6ca-ca74-4757-b66c-16b488048c15",
   "metadata": {},
   "outputs": [],
   "source": [
    "html = \"\"\"\n",
    "        <!DOCTYPE html><html><head><title>Example HTML</title></head><body><h1>Hello, World!</h1><p>A simple HTML page for testing web scraping with BeautifulSoup.</p>\n",
    "                <a c\n",
    "                lass='link' href='www.miuul.com' target='blank' aria-label='Miuul (Opens Miuul Page)'>Click</a>\n",
    "                <li>Outsider</li>\n",
    "                <ul>\n",
    "                    <li>Item 1</li>\n",
    "                    <li>Item 2</li>\n",
    "                </ul>\n",
    "            </body>\n",
    "            </html>\n",
    "\n",
    "\"\"\""
   ]
  },
  {
   "cell_type": "code",
   "execution_count": 18,
   "id": "2d4d5899-a71f-4062-b3a6-93dc07a4a392",
   "metadata": {},
   "outputs": [],
   "source": [
    "soup = BeautifulSoup(html, \"html.parser\")"
   ]
  },
  {
   "cell_type": "code",
   "execution_count": 19,
   "id": "333f01ec-7a65-4810-8063-ce96bcf2a7fb",
   "metadata": {},
   "outputs": [
    {
     "data": {
      "text/plain": [
       "\n",
       "<!DOCTYPE html>\n",
       "<html><head><title>Example HTML</title></head><body><h1>Hello, World!</h1><p>A simple HTML page for testing web scraping with BeautifulSoup.</p>\n",
       "<a aria-label=\"Miuul (Opens Miuul Page)\" c=\"\" href=\"www.miuul.com\" lass=\"link\" target=\"blank\">Click</a>\n",
       "<li>Outsider</li>\n",
       "<ul>\n",
       "<li>Item 1</li>\n",
       "<li>Item 2</li>\n",
       "</ul>\n",
       "</body>\n",
       "</html>"
      ]
     },
     "execution_count": 19,
     "metadata": {},
     "output_type": "execute_result"
    }
   ],
   "source": [
    "soup"
   ]
  },
  {
   "cell_type": "code",
   "execution_count": 20,
   "id": "dc932467-82ff-4fc0-8470-82fe4cae865c",
   "metadata": {},
   "outputs": [
    {
     "data": {
      "text/plain": [
       "<title>Example HTML</title>"
      ]
     },
     "execution_count": 20,
     "metadata": {},
     "output_type": "execute_result"
    }
   ],
   "source": [
    "soup.title"
   ]
  },
  {
   "cell_type": "code",
   "execution_count": 21,
   "id": "cdf1b289-c9be-461e-afbd-a102000aef6d",
   "metadata": {},
   "outputs": [],
   "source": [
    "title = soup.title"
   ]
  },
  {
   "cell_type": "code",
   "execution_count": 22,
   "id": "4e50077b-008f-4544-af09-881cdc12283e",
   "metadata": {},
   "outputs": [
    {
     "data": {
      "text/plain": [
       "bs4.element.Tag"
      ]
     },
     "execution_count": 22,
     "metadata": {},
     "output_type": "execute_result"
    }
   ],
   "source": [
    "type(title)"
   ]
  },
  {
   "cell_type": "code",
   "execution_count": 23,
   "id": "5b6300bb-988e-4d8d-8920-b06a936dd9ea",
   "metadata": {},
   "outputs": [
    {
     "data": {
      "text/plain": [
       "'Example HTML'"
      ]
     },
     "execution_count": 23,
     "metadata": {},
     "output_type": "execute_result"
    }
   ],
   "source": [
    "title.text"
   ]
  },
  {
   "cell_type": "code",
   "execution_count": 24,
   "id": "e023c18b-1ab8-4e59-8967-1001b0e5b8a0",
   "metadata": {},
   "outputs": [
    {
     "data": {
      "text/plain": [
       "'Example HTML'"
      ]
     },
     "execution_count": 24,
     "metadata": {},
     "output_type": "execute_result"
    }
   ],
   "source": [
    "title.string"
   ]
  },
  {
   "cell_type": "code",
   "execution_count": 26,
   "id": "4b954ae5-7eea-44fa-ba0c-2cf00f333f55",
   "metadata": {},
   "outputs": [
    {
     "name": "stdout",
     "output_type": "stream",
     "text": [
      "<!DOCTYPE html>\n",
      "<html>\n",
      " <head>\n",
      "  <title>\n",
      "   Example HTML\n",
      "  </title>\n",
      " </head>\n",
      " <body>\n",
      "  <h1>\n",
      "   Hello, World!\n",
      "  </h1>\n",
      "  <p>\n",
      "   A simple HTML page for testing web scraping with BeautifulSoup.\n",
      "  </p>\n",
      "  <a aria-label=\"Miuul (Opens Miuul Page)\" c=\"\" href=\"www.miuul.com\" lass=\"link\" target=\"blank\">\n",
      "   Click\n",
      "  </a>\n",
      "  <li>\n",
      "   Outsider\n",
      "  </li>\n",
      "  <ul>\n",
      "   <li>\n",
      "    Item 1\n",
      "   </li>\n",
      "   <li>\n",
      "    Item 2\n",
      "   </li>\n",
      "  </ul>\n",
      " </body>\n",
      "</html>\n",
      "\n"
     ]
    }
   ],
   "source": [
    "print(soup.prettify())  # daha düzenli görürüz prettify ile "
   ]
  },
  {
   "cell_type": "code",
   "execution_count": 27,
   "id": "4567f3b2-1790-4600-965f-4cafb914fed7",
   "metadata": {},
   "outputs": [
    {
     "data": {
      "text/plain": [
       "<ul>\n",
       "<li>Item 1</li>\n",
       "<li>Item 2</li>\n",
       "</ul>"
      ]
     },
     "execution_count": 27,
     "metadata": {},
     "output_type": "execute_result"
    }
   ],
   "source": [
    "soup.ul"
   ]
  },
  {
   "cell_type": "code",
   "execution_count": 28,
   "id": "86be48a8-afae-49db-9cf3-d475b93a3812",
   "metadata": {},
   "outputs": [
    {
     "data": {
      "text/plain": [
       "<li>Outsider</li>"
      ]
     },
     "execution_count": 28,
     "metadata": {},
     "output_type": "execute_result"
    }
   ],
   "source": [
    "soup.li"
   ]
  },
  {
   "cell_type": "code",
   "execution_count": 30,
   "id": "747f4612-4295-4198-94a1-0d7c559c0e51",
   "metadata": {},
   "outputs": [
    {
     "data": {
      "text/plain": [
       "bs4.element.Tag"
      ]
     },
     "execution_count": 30,
     "metadata": {},
     "output_type": "execute_result"
    }
   ],
   "source": [
    "ul = soup.ul\n",
    "type(ul)"
   ]
  },
  {
   "cell_type": "code",
   "execution_count": 31,
   "id": "edb4aab2-416a-46a9-a4b3-40b308b07d32",
   "metadata": {},
   "outputs": [
    {
     "data": {
      "text/plain": [
       "<li>Item 1</li>"
      ]
     },
     "execution_count": 31,
     "metadata": {},
     "output_type": "execute_result"
    }
   ],
   "source": [
    "ul.li"
   ]
  },
  {
   "cell_type": "code",
   "execution_count": 33,
   "id": "0ff52ef9-9bdc-47da-8ee4-df5763955e99",
   "metadata": {},
   "outputs": [],
   "source": [
    "ul.li.last"
   ]
  },
  {
   "cell_type": "markdown",
   "id": "2bdd8594-7df8-4fd7-84f3-bb12ff687425",
   "metadata": {},
   "source": [
    "# Navigating and Searching HTML"
   ]
  },
  {
   "cell_type": "code",
   "execution_count": 36,
   "id": "836d7ad4-bfc6-4243-953f-041cf371ddae",
   "metadata": {},
   "outputs": [],
   "source": [
    "from bs4 import BeautifulSoup\n",
    "\n",
    "html = \"\"\"\n",
    "        <!DOCTYPE html>\n",
    "        <html>\n",
    "            <head>\n",
    "                <title>Example HTML</title>\n",
    "            </head>\n",
    "            <body>\n",
    "                <h1>Hello, World!</h1>\n",
    "                <p id=\"paragraph\" >A simple HTML page for testing web scraping with BeautifulSoup.</p>\n",
    "                <a class='link' href='www.miuul.com' target='blank' aria-label='Miuul (Opens Miuul Page)'>Click</a>\n",
    "                <li>Outsider</li>\n",
    "                <ul>\n",
    "                    <li class=\"list-item\">Item 1</li>\n",
    "                    <li class=\"list-item\">Item 2</li>\n",
    "                </ul>\n",
    "                <li>Outsider 2</li>\n",
    "            </body>\n",
    "            </html>\n",
    "\"\"\"\n"
   ]
  },
  {
   "cell_type": "code",
   "execution_count": 37,
   "id": "7c474c12-5bd6-47c7-8652-71527357a406",
   "metadata": {},
   "outputs": [],
   "source": [
    "soup = BeautifulSoup(html , \"html.parser\") "
   ]
  },
  {
   "cell_type": "code",
   "execution_count": 38,
   "id": "4e5beb6a-1199-4e0c-8b9c-71243dba21b0",
   "metadata": {},
   "outputs": [
    {
     "data": {
      "text/plain": [
       "<a aria-label=\"Miuul (Opens Miuul Page)\" class=\"link\" href=\"www.miuul.com\" target=\"blank\">Click</a>"
      ]
     },
     "execution_count": 38,
     "metadata": {},
     "output_type": "execute_result"
    }
   ],
   "source": [
    "soup.a"
   ]
  },
  {
   "cell_type": "code",
   "execution_count": 45,
   "id": "86c88f8b-264e-43b2-9db4-176cad6a6307",
   "metadata": {},
   "outputs": [
    {
     "data": {
      "text/plain": [
       "<a aria-label=\"Miuul (Opens Miuul Page)\" class=\"link\" href=\"www.miuul.com\" target=\"blank\">Click</a>"
      ]
     },
     "execution_count": 45,
     "metadata": {},
     "output_type": "execute_result"
    }
   ],
   "source": [
    "soup.find(\"a\", attrs={'class': 'link',  'target': 'blank'})"
   ]
  },
  {
   "cell_type": "code",
   "execution_count": 47,
   "id": "bd9e09b3-6657-4329-8416-5a1481ea6283",
   "metadata": {},
   "outputs": [
    {
     "data": {
      "text/plain": [
       "<li>Outsider</li>"
      ]
     },
     "execution_count": 47,
     "metadata": {},
     "output_type": "execute_result"
    }
   ],
   "source": [
    "soup.find(\"li\")"
   ]
  },
  {
   "cell_type": "code",
   "execution_count": 49,
   "id": "c4be4d5a-c0f7-4a26-88eb-3754962490b3",
   "metadata": {},
   "outputs": [
    {
     "data": {
      "text/plain": [
       "[<li>Outsider</li>,\n",
       " <li class=\"list-item\">Item 1</li>,\n",
       " <li class=\"list-item\">Item 2</li>,\n",
       " <li>Outsider 2</li>]"
      ]
     },
     "execution_count": 49,
     "metadata": {},
     "output_type": "execute_result"
    }
   ],
   "source": [
    "soup.find_all(\"li\")   #all tüm li getirdi ! "
   ]
  },
  {
   "cell_type": "code",
   "execution_count": 51,
   "id": "60803fbb-0fdf-4f82-8261-0dc9cdc9a6d6",
   "metadata": {},
   "outputs": [
    {
     "data": {
      "text/plain": [
       "[<li class=\"list-item\">Item 1</li>, <li class=\"list-item\">Item 2</li>]"
      ]
     },
     "execution_count": 51,
     "metadata": {},
     "output_type": "execute_result"
    }
   ],
   "source": [
    "soup.find_all (\"li\" , attrs={ \"class\" : \"list-item\"})"
   ]
  },
  {
   "cell_type": "code",
   "execution_count": 54,
   "id": "7c499dc5-3c2e-4e15-898e-f93cd989c7a8",
   "metadata": {},
   "outputs": [
    {
     "data": {
      "text/plain": [
       "[<li class=\"list-item\">Item 1</li>, <li class=\"list-item\">Item 2</li>]"
      ]
     },
     "execution_count": 54,
     "metadata": {},
     "output_type": "execute_result"
    }
   ],
   "source": [
    "li_elements = soup.find_all (\"li\" , attrs={ \"class\" : \"list-item\"})\n",
    "li_elements"
   ]
  },
  {
   "cell_type": "code",
   "execution_count": 56,
   "id": "9c89be73-1dfd-4b3b-b0fc-2eeb2f178e6b",
   "metadata": {},
   "outputs": [
    {
     "data": {
      "text/plain": [
       "<li class=\"list-item\">Item 2</li>"
      ]
     },
     "execution_count": 56,
     "metadata": {},
     "output_type": "execute_result"
    }
   ],
   "source": [
    "li_elements[-1]    # li elements sonuncusunu getir "
   ]
  },
  {
   "cell_type": "markdown",
   "id": "2a9c9604-377c-4f4f-944b-5e3a61498240",
   "metadata": {},
   "source": [
    "# Extracting Data from HTML Elements"
   ]
  },
  {
   "cell_type": "code",
   "execution_count": 87,
   "id": "aa991411-000e-4b6e-92b9-d53de00682ef",
   "metadata": {},
   "outputs": [],
   "source": [
    "from bs4 import BeautifulSoup "
   ]
  },
  {
   "cell_type": "code",
   "execution_count": 88,
   "id": "73c239f2-2245-48ad-9e02-bb327cbd3ba5",
   "metadata": {},
   "outputs": [],
   "source": [
    "html = \"\"\"<!DOCTYPE html>\n",
    "<html lang=\"en\">\n",
    "<head>\n",
    "  <meta charset=\"UTF-8\">\n",
    "  <meta name=\"viewport\" content=\"width=device-width, initial-scale=1.0\">\n",
    "  <title>Animal Table</title>\n",
    "  <style>\n",
    "    table {\n",
    "      width: 80%;\n",
    "      border-collapse: collapse;\n",
    "      margin: 20px;\n",
    "    }\n",
    "\n",
    "    th, td {\n",
    "      border: 1px solid #dddddd;\n",
    "      text-align: left;\n",
    "      padding: 8px;\n",
    "    }\n",
    "\n",
    "    th {\n",
    "      background-color: #f2f2f2;\n",
    "    }\n",
    "\n",
    "    img {\n",
    "object-fit: cover;\n",
    "      max-width: 50px;\n",
    "      max-height: 50px;\n",
    "    }\n",
    "  </style>\n",
    "</head>\n",
    "<body>\n",
    "\n",
    "  <h2>Animal Table</h2>\n",
    "\n",
    "  <table>\n",
    "    <thead><tr>\n",
    "      <th>Image</th>\n",
    "      <th>Animal</th>\n",
    "      <th>Description</th>\n",
    "      <th>Nickname</th>\n",
    "    </tr></thead>\n",
    "    <tbody>\n",
    "    <tr>\n",
    "      <td><img src=\"https://images.unsplash.com/photo-1534188753412-3e26d0d618d6?q=80&w=1974&auto=format&fit=crop&ixlib=rb-4.0.3&ixid=M3wxMjA3fDB8MHxwaG90by1wYWdlfHx8fGVufDB8fHx8fA%3D%3D\" alt=\"Lion\"></td>\n",
    "      <td><a href=\"https://en.wikipedia.org/wiki/Lion\" target=\"_blank\">Lion</a></td>\n",
    "      <td>The lion is a large carnivorous mammal. It is known for its majestic appearance and is often referred to as the \"king of the jungle.\"</td>\n",
    "      <td> Majestic<br>King  </td>\n",
    "    </tr>\n",
    "    <tr>\n",
    "      <td><img src=\"https://images.unsplash.com/photo-1551316679-9c6ae9dec224?q=80&w=1974&auto=format&fit=crop&ixlib=rb-4.0.3&ixid=M3wxMjA3fDB8MHxwaG90by1wYWdlfHx8fGVufDB8fHx8fA%3D%3D\" alt=\"Elephant\"></td>\n",
    "      <td><a href=\"https://en.wikipedia.org/wiki/Elephant\" target=\"_blank\">Elephant</a></td>\n",
    "      <td>Elephants are the largest land animals. They are known for their long trunks and large ears.</td>\n",
    "      <td> Trunked<br>  Giant</td>\n",
    "    </tr>\n",
    "    <tr>\n",
    "      <td><img src=\"https://images.unsplash.com/photo-1570481662006-a3a1374699e8?q=80&w=1965&auto=format&fit=crop&ixlib=rb-4.0.3&ixid=M3wxMjA3fDB8MHxwaG90by1wYWdlfHx8fGVufDB8fHx8fA%3D%3D\" alt=\"Dolphin\"></td>\n",
    "      <td><a href=\"https://en.wikipedia.org/wiki/Dolphin\" target=\"_blank\">Dolphin</a></td>\n",
    "      <td>Dolphins are highly intelligent marine mammals known for their playful behavior and communication skills.</td>\n",
    "      <td> Playful<br>Communicator</td>\n",
    "    </tr>\n",
    "    <tr>\n",
    "      <td><img src=\"https://images.unsplash.com/photo-1599631438215-75bc2640feb8?q=80&w=2127&auto=format&fit=crop&ixlib=rb-4.0.3&ixid=M3wxMjA3fDB8MHxwaG90by1wYWdlfHx8fGVufDB8fHx8fA%3D%3D\" alt=\"Butterfly\"></td>\n",
    "      <td><a href=\"https://en.wikipedia.org/wiki/Butterfly\" target=\"_blank\">Butterfly</a></td>\n",
    "      <td>Butterflies are beautiful insects with colorful wings. They undergo a process called metamorphosis from caterpillar to butterfly.</td>\n",
    "      <td> Colorful<br>Metamorphosis</td>\n",
    "    </tr>\n",
    "    <tr>\n",
    "      <td><img src=\"https://images.unsplash.com/photo-1552633832-4f5a1b110980?q=80&w=1974&auto=format&fit=crop&ixlib=rb-4.0.3&ixid=M3wxMjA3fDB8MHxwaG90by1wYWdlfHx8fGVufDB8fHx8fA%3D%3D\" alt=\"Penguin\"></td>\n",
    "      <td><a href=\"https://en.wikipedia.org/wiki/Penguin\" target=\"_blank\">Penguin</a></td>\n",
    "      <td>Penguins are flightless birds that are well-adapted to life in the water. They are known for their tuxedo-like black and white plumage.</td>\n",
    "      <td> Tuxedoed     <br>Adaptation  </td>\n",
    "    </tr>\n",
    "  </tbody>\n",
    "  </table>\n",
    "</body>\n",
    "</html>\"\"\""
   ]
  },
  {
   "cell_type": "code",
   "execution_count": 89,
   "id": "b5458175-b29f-4247-90f0-ebd3bc5cb1e8",
   "metadata": {},
   "outputs": [],
   "source": [
    "soup = BeautifulSoup (html, \"html.parser\")"
   ]
  },
  {
   "cell_type": "code",
   "execution_count": 90,
   "id": "2d9b30f5-0fc0-48d5-812b-5056281d132e",
   "metadata": {},
   "outputs": [],
   "source": [
    "tbody_tag = soup.find(\"tbody\")"
   ]
  },
  {
   "cell_type": "code",
   "execution_count": 94,
   "id": "dd2f9e8a-c7c2-477b-a8c0-827f73badfe3",
   "metadata": {},
   "outputs": [],
   "source": [
    "tr_tag_list =tbody_tag.find_all(\"tr\")\n"
   ]
  },
  {
   "cell_type": "code",
   "execution_count": 95,
   "id": "1123d5b6-856b-4634-bcea-3d1258927ede",
   "metadata": {},
   "outputs": [
    {
     "name": "stdout",
     "output_type": "stream",
     "text": [
      "[<tr>\n",
      "<td><img alt=\"Lion\" src=\"https://images.unsplash.com/photo-1534188753412-3e26d0d618d6?q=80&amp;w=1974&amp;auto=format&amp;fit=crop&amp;ixlib=rb-4.0.3&amp;ixid=M3wxMjA3fDB8MHxwaG90by1wYWdlfHx8fGVufDB8fHx8fA%3D%3D\"/></td>\n",
      "<td><a href=\"https://en.wikipedia.org/wiki/Lion\" target=\"_blank\">Lion</a></td>\n",
      "<td>The lion is a large carnivorous mammal. It is known for its majestic appearance and is often referred to as the \"king of the jungle.\"</td>\n",
      "<td> Majestic<br/>King  </td>\n",
      "</tr>, <tr>\n",
      "<td><img alt=\"Elephant\" src=\"https://images.unsplash.com/photo-1551316679-9c6ae9dec224?q=80&amp;w=1974&amp;auto=format&amp;fit=crop&amp;ixlib=rb-4.0.3&amp;ixid=M3wxMjA3fDB8MHxwaG90by1wYWdlfHx8fGVufDB8fHx8fA%3D%3D\"/></td>\n",
      "<td><a href=\"https://en.wikipedia.org/wiki/Elephant\" target=\"_blank\">Elephant</a></td>\n",
      "<td>Elephants are the largest land animals. They are known for their long trunks and large ears.</td>\n",
      "<td> Trunked<br/>  Giant</td>\n",
      "</tr>, <tr>\n",
      "<td><img alt=\"Dolphin\" src=\"https://images.unsplash.com/photo-1570481662006-a3a1374699e8?q=80&amp;w=1965&amp;auto=format&amp;fit=crop&amp;ixlib=rb-4.0.3&amp;ixid=M3wxMjA3fDB8MHxwaG90by1wYWdlfHx8fGVufDB8fHx8fA%3D%3D\"/></td>\n",
      "<td><a href=\"https://en.wikipedia.org/wiki/Dolphin\" target=\"_blank\">Dolphin</a></td>\n",
      "<td>Dolphins are highly intelligent marine mammals known for their playful behavior and communication skills.</td>\n",
      "<td> Playful<br/>Communicator</td>\n",
      "</tr>, <tr>\n",
      "<td><img alt=\"Butterfly\" src=\"https://images.unsplash.com/photo-1599631438215-75bc2640feb8?q=80&amp;w=2127&amp;auto=format&amp;fit=crop&amp;ixlib=rb-4.0.3&amp;ixid=M3wxMjA3fDB8MHxwaG90by1wYWdlfHx8fGVufDB8fHx8fA%3D%3D\"/></td>\n",
      "<td><a href=\"https://en.wikipedia.org/wiki/Butterfly\" target=\"_blank\">Butterfly</a></td>\n",
      "<td>Butterflies are beautiful insects with colorful wings. They undergo a process called metamorphosis from caterpillar to butterfly.</td>\n",
      "<td> Colorful<br/>Metamorphosis</td>\n",
      "</tr>, <tr>\n",
      "<td><img alt=\"Penguin\" src=\"https://images.unsplash.com/photo-1552633832-4f5a1b110980?q=80&amp;w=1974&amp;auto=format&amp;fit=crop&amp;ixlib=rb-4.0.3&amp;ixid=M3wxMjA3fDB8MHxwaG90by1wYWdlfHx8fGVufDB8fHx8fA%3D%3D\"/></td>\n",
      "<td><a href=\"https://en.wikipedia.org/wiki/Penguin\" target=\"_blank\">Penguin</a></td>\n",
      "<td>Penguins are flightless birds that are well-adapted to life in the water. They are known for their tuxedo-like black and white plumage.</td>\n",
      "<td> Tuxedoed     <br/>Adaptation  </td>\n",
      "</tr>]\n"
     ]
    }
   ],
   "source": [
    "print(tr_tag_list)"
   ]
  },
  {
   "cell_type": "code",
   "execution_count": null,
   "id": "345f9d05-3051-4395-aa9a-1325cf312cf5",
   "metadata": {},
   "outputs": [],
   "source": []
  },
  {
   "cell_type": "code",
   "execution_count": 98,
   "id": "d576939b-71af-4644-ad88-3023ae6292d2",
   "metadata": {},
   "outputs": [
    {
     "data": {
      "text/plain": [
       "<tr>\n",
       "<td><img alt=\"Lion\" src=\"https://images.unsplash.com/photo-1534188753412-3e26d0d618d6?q=80&amp;w=1974&amp;auto=format&amp;fit=crop&amp;ixlib=rb-4.0.3&amp;ixid=M3wxMjA3fDB8MHxwaG90by1wYWdlfHx8fGVufDB8fHx8fA%3D%3D\"/></td>\n",
       "<td><a href=\"https://en.wikipedia.org/wiki/Lion\" target=\"_blank\">Lion</a></td>\n",
       "<td>The lion is a large carnivorous mammal. It is known for its majestic appearance and is often referred to as the \"king of the jungle.\"</td>\n",
       "<td> Majestic<br/>King  </td>\n",
       "</tr>"
      ]
     },
     "execution_count": 98,
     "metadata": {},
     "output_type": "execute_result"
    }
   ],
   "source": [
    "tr_tag =tr_tag_list [0]  #Lion\n",
    "tr_tag"
   ]
  },
  {
   "cell_type": "code",
   "execution_count": 99,
   "id": "cc9d91b5-5f93-4412-adf7-8c9da5dfbb62",
   "metadata": {},
   "outputs": [
    {
     "data": {
      "text/plain": [
       "<tr>\n",
       "<td><img alt=\"Elephant\" src=\"https://images.unsplash.com/photo-1551316679-9c6ae9dec224?q=80&amp;w=1974&amp;auto=format&amp;fit=crop&amp;ixlib=rb-4.0.3&amp;ixid=M3wxMjA3fDB8MHxwaG90by1wYWdlfHx8fGVufDB8fHx8fA%3D%3D\"/></td>\n",
       "<td><a href=\"https://en.wikipedia.org/wiki/Elephant\" target=\"_blank\">Elephant</a></td>\n",
       "<td>Elephants are the largest land animals. They are known for their long trunks and large ears.</td>\n",
       "<td> Trunked<br/>  Giant</td>\n",
       "</tr>"
      ]
     },
     "execution_count": 99,
     "metadata": {},
     "output_type": "execute_result"
    }
   ],
   "source": [
    "tr_tag =tr_tag_list [1] #Elephant\n",
    "tr_tag"
   ]
  },
  {
   "cell_type": "code",
   "execution_count": null,
   "id": "aa0219f7-2f41-4895-81fe-c63dba7381a2",
   "metadata": {},
   "outputs": [],
   "source": []
  },
  {
   "cell_type": "code",
   "execution_count": null,
   "id": "70ca42ad-f803-4868-8fd2-8419c7dfcccf",
   "metadata": {},
   "outputs": [],
   "source": [
    "img_tag = tr_tag.find(\"img\")\n",
    "a_tag = tr_tag.find(\"a\")"
   ]
  },
  {
   "cell_type": "code",
   "execution_count": 104,
   "id": "83d0fbd0-dd30-4710-99d5-3a8fb604f805",
   "metadata": {},
   "outputs": [],
   "source": [
    "img_tag =tr_tag.find(\"img\")\n",
    "a_tag =tr_tag.find(\"a\")\n"
   ]
  },
  {
   "cell_type": "code",
   "execution_count": 105,
   "id": "a3c12fdf-62e0-4286-8613-e6a6904665b6",
   "metadata": {},
   "outputs": [
    {
     "data": {
      "text/plain": [
       "<img alt=\"Elephant\" src=\"https://images.unsplash.com/photo-1551316679-9c6ae9dec224?q=80&amp;w=1974&amp;auto=format&amp;fit=crop&amp;ixlib=rb-4.0.3&amp;ixid=M3wxMjA3fDB8MHxwaG90by1wYWdlfHx8fGVufDB8fHx8fA%3D%3D\"/>"
      ]
     },
     "execution_count": 105,
     "metadata": {},
     "output_type": "execute_result"
    }
   ],
   "source": [
    "img_tag\n"
   ]
  },
  {
   "cell_type": "code",
   "execution_count": 106,
   "id": "6c37b088-16d9-4e50-805f-394463f9db89",
   "metadata": {},
   "outputs": [
    {
     "data": {
      "text/plain": [
       "<a href=\"https://en.wikipedia.org/wiki/Elephant\" target=\"_blank\">Elephant</a>"
      ]
     },
     "execution_count": 106,
     "metadata": {},
     "output_type": "execute_result"
    }
   ],
   "source": [
    "a_tag"
   ]
  },
  {
   "cell_type": "code",
   "execution_count": 108,
   "id": "bdca7c17-f05f-47ae-bc26-969835e599d3",
   "metadata": {},
   "outputs": [
    {
     "data": {
      "text/plain": [
       "<td> Trunked<br/>  Giant</td>"
      ]
     },
     "execution_count": 108,
     "metadata": {},
     "output_type": "execute_result"
    }
   ],
   "source": [
    "nickname_td = tr_tag.find_all(\"td\")[-1]\n",
    "nickname_td"
   ]
  },
  {
   "cell_type": "code",
   "execution_count": 109,
   "id": "2838a648-c6e2-4fea-bf6f-408dc742f955",
   "metadata": {},
   "outputs": [
    {
     "data": {
      "text/plain": [
       "<td>Elephants are the largest land animals. They are known for their long trunks and large ears.</td>"
      ]
     },
     "execution_count": 109,
     "metadata": {},
     "output_type": "execute_result"
    }
   ],
   "source": [
    "desc_td =tr_tag.find_all(\"td\")[-2]\n",
    "desc_td "
   ]
  },
  {
   "cell_type": "code",
   "execution_count": 110,
   "id": "4ea01048-5527-482d-8124-46db5a255cf3",
   "metadata": {},
   "outputs": [
    {
     "data": {
      "text/plain": [
       "'Elephants are the largest land animals. They are known for their long trunks and large ears.'"
      ]
     },
     "execution_count": 110,
     "metadata": {},
     "output_type": "execute_result"
    }
   ],
   "source": [
    "desc_td.text"
   ]
  },
  {
   "cell_type": "code",
   "execution_count": 111,
   "id": "86ef9281-cfa3-43e4-8365-2a9f6d7d60a2",
   "metadata": {},
   "outputs": [
    {
     "data": {
      "text/plain": [
       "' Trunked  Giant'"
      ]
     },
     "execution_count": 111,
     "metadata": {},
     "output_type": "execute_result"
    }
   ],
   "source": [
    "nickname_td.text"
   ]
  },
  {
   "cell_type": "code",
   "execution_count": 112,
   "id": "53a569a9-86d6-496d-b687-ab694589cd0a",
   "metadata": {},
   "outputs": [
    {
     "data": {
      "text/plain": [
       "'Trunked  Giant'"
      ]
     },
     "execution_count": 112,
     "metadata": {},
     "output_type": "execute_result"
    }
   ],
   "source": [
    "cleaned_text = nickname_td.text.strip()   #metnin başındaki ve sonundaki gereksiz boşlukları kaldırır !\n",
    "cleaned_text"
   ]
  },
  {
   "cell_type": "code",
   "execution_count": null,
   "id": "f7633b6b-70e3-4afc-a440-294708361282",
   "metadata": {},
   "outputs": [],
   "source": []
  },
  {
   "cell_type": "markdown",
   "id": "209e571d-a0a2-4306-abc2-16788c740df2",
   "metadata": {},
   "source": [
    "## Lion"
   ]
  },
  {
   "cell_type": "code",
   "execution_count": 113,
   "id": "f6a09ca3-228d-4092-870a-4a733a50cab2",
   "metadata": {},
   "outputs": [
    {
     "data": {
      "text/plain": [
       "<tr>\n",
       "<td><img alt=\"Lion\" src=\"https://images.unsplash.com/photo-1534188753412-3e26d0d618d6?q=80&amp;w=1974&amp;auto=format&amp;fit=crop&amp;ixlib=rb-4.0.3&amp;ixid=M3wxMjA3fDB8MHxwaG90by1wYWdlfHx8fGVufDB8fHx8fA%3D%3D\"/></td>\n",
       "<td><a href=\"https://en.wikipedia.org/wiki/Lion\" target=\"_blank\">Lion</a></td>\n",
       "<td>The lion is a large carnivorous mammal. It is known for its majestic appearance and is often referred to as the \"king of the jungle.\"</td>\n",
       "<td> Majestic<br/>King  </td>\n",
       "</tr>"
      ]
     },
     "execution_count": 113,
     "metadata": {},
     "output_type": "execute_result"
    }
   ],
   "source": [
    "tr_tag =tr_tag_list [0]  #Lion\n",
    "tr_tag"
   ]
  },
  {
   "cell_type": "code",
   "execution_count": 114,
   "id": "ec68baba-5431-4bed-bd03-cf73b6666d78",
   "metadata": {},
   "outputs": [],
   "source": [
    "img_tag = tr_tag.find(\"img\")\n",
    "a_tag = tr_tag.find(\"a\")"
   ]
  },
  {
   "cell_type": "code",
   "execution_count": 115,
   "id": "650eaa2d-d6cd-4662-9c6b-660f597b4c7d",
   "metadata": {},
   "outputs": [
    {
     "data": {
      "text/plain": [
       "<img alt=\"Lion\" src=\"https://images.unsplash.com/photo-1534188753412-3e26d0d618d6?q=80&amp;w=1974&amp;auto=format&amp;fit=crop&amp;ixlib=rb-4.0.3&amp;ixid=M3wxMjA3fDB8MHxwaG90by1wYWdlfHx8fGVufDB8fHx8fA%3D%3D\"/>"
      ]
     },
     "execution_count": 115,
     "metadata": {},
     "output_type": "execute_result"
    }
   ],
   "source": [
    "img_tag"
   ]
  },
  {
   "cell_type": "code",
   "execution_count": 116,
   "id": "bf34a28e-3ab2-4e89-bf2d-1c52d40a80d3",
   "metadata": {},
   "outputs": [
    {
     "data": {
      "text/plain": [
       "<a href=\"https://en.wikipedia.org/wiki/Lion\" target=\"_blank\">Lion</a>"
      ]
     },
     "execution_count": 116,
     "metadata": {},
     "output_type": "execute_result"
    }
   ],
   "source": [
    "a_tag"
   ]
  },
  {
   "cell_type": "code",
   "execution_count": 117,
   "id": "cea0bcb6-05da-4fd3-9d58-cdb2d2eea10c",
   "metadata": {},
   "outputs": [
    {
     "data": {
      "text/plain": [
       "<td> Majestic<br/>King  </td>"
      ]
     },
     "execution_count": 117,
     "metadata": {},
     "output_type": "execute_result"
    }
   ],
   "source": [
    "nickname_td = tr_tag.find_all(\"td\")[-1]\n",
    "nickname_td"
   ]
  },
  {
   "cell_type": "code",
   "execution_count": 118,
   "id": "40e0b2f5-0d28-437c-bdc3-81d4fa3a0329",
   "metadata": {},
   "outputs": [
    {
     "data": {
      "text/plain": [
       "<td>The lion is a large carnivorous mammal. It is known for its majestic appearance and is often referred to as the \"king of the jungle.\"</td>"
      ]
     },
     "execution_count": 118,
     "metadata": {},
     "output_type": "execute_result"
    }
   ],
   "source": [
    "desc_td =tr_tag.find_all(\"td\")[-2]\n",
    "desc_td"
   ]
  },
  {
   "cell_type": "code",
   "execution_count": 119,
   "id": "a26d121c-81bc-419a-9163-ef4cf9092c66",
   "metadata": {},
   "outputs": [
    {
     "data": {
      "text/plain": [
       "'The lion is a large carnivorous mammal. It is known for its majestic appearance and is often referred to as the \"king of the jungle.\"'"
      ]
     },
     "execution_count": 119,
     "metadata": {},
     "output_type": "execute_result"
    }
   ],
   "source": [
    "desc_td.text"
   ]
  },
  {
   "cell_type": "code",
   "execution_count": 120,
   "id": "2b4882b5-2c07-4b77-ab48-9dcba3ce18b5",
   "metadata": {},
   "outputs": [
    {
     "data": {
      "text/plain": [
       "' MajesticKing  '"
      ]
     },
     "execution_count": 120,
     "metadata": {},
     "output_type": "execute_result"
    }
   ],
   "source": [
    "nickname_td.text"
   ]
  },
  {
   "cell_type": "code",
   "execution_count": 123,
   "id": "23a9d4c3-c221-430b-8946-66bda6407e39",
   "metadata": {},
   "outputs": [
    {
     "data": {
      "text/plain": [
       "'Majestic King'"
      ]
     },
     "execution_count": 123,
     "metadata": {},
     "output_type": "execute_result"
    }
   ],
   "source": [
    "nickname_td.get_text(separator=\" \", strip=True)    #Önce sprip ile boşlukları halletti, sonra seperator ile araya boşluk koyduk!!!\n"
   ]
  },
  {
   "cell_type": "code",
   "execution_count": 124,
   "id": "898c3964-3935-4a38-ac6a-01ffb6ce7b0a",
   "metadata": {},
   "outputs": [
    {
     "data": {
      "text/plain": [
       "<img alt=\"Lion\" src=\"https://images.unsplash.com/photo-1534188753412-3e26d0d618d6?q=80&amp;w=1974&amp;auto=format&amp;fit=crop&amp;ixlib=rb-4.0.3&amp;ixid=M3wxMjA3fDB8MHxwaG90by1wYWdlfHx8fGVufDB8fHx8fA%3D%3D\"/>"
      ]
     },
     "execution_count": 124,
     "metadata": {},
     "output_type": "execute_result"
    }
   ],
   "source": [
    "img_tag"
   ]
  },
  {
   "cell_type": "code",
   "execution_count": 125,
   "id": "4ceedfa5-84e9-47f6-93f2-08c00736d7d3",
   "metadata": {},
   "outputs": [
    {
     "data": {
      "text/plain": [
       "'Lion'"
      ]
     },
     "execution_count": 125,
     "metadata": {},
     "output_type": "execute_result"
    }
   ],
   "source": [
    "img_tag[\"alt\"]"
   ]
  },
  {
   "cell_type": "code",
   "execution_count": 126,
   "id": "86288d6f-ffa6-44d9-95ef-98ab0d7b4d52",
   "metadata": {},
   "outputs": [
    {
     "data": {
      "text/plain": [
       "'Lion'"
      ]
     },
     "execution_count": 126,
     "metadata": {},
     "output_type": "execute_result"
    }
   ],
   "source": [
    "alt_attribute = img_tag[\"alt\"]\n",
    "alt_attribute"
   ]
  },
  {
   "cell_type": "code",
   "execution_count": 127,
   "id": "1c078246-821f-476e-8239-b02a5c4adcc5",
   "metadata": {},
   "outputs": [
    {
     "data": {
      "text/plain": [
       "'https://images.unsplash.com/photo-1534188753412-3e26d0d618d6?q=80&w=1974&auto=format&fit=crop&ixlib=rb-4.0.3&ixid=M3wxMjA3fDB8MHxwaG90by1wYWdlfHx8fGVufDB8fHx8fA%3D%3D'"
      ]
     },
     "execution_count": 127,
     "metadata": {},
     "output_type": "execute_result"
    }
   ],
   "source": [
    "img_tag[\"src\"]"
   ]
  },
  {
   "cell_type": "code",
   "execution_count": 128,
   "id": "fd41cc0f-f1b0-4cd0-9371-dced02953e6c",
   "metadata": {},
   "outputs": [
    {
     "data": {
      "text/plain": [
       "'https://images.unsplash.com/photo-1534188753412-3e26d0d618d6?q=80&w=1974&auto=format&fit=crop&ixlib=rb-4.0.3&ixid=M3wxMjA3fDB8MHxwaG90by1wYWdlfHx8fGVufDB8fHx8fA%3D%3D'"
      ]
     },
     "execution_count": 128,
     "metadata": {},
     "output_type": "execute_result"
    }
   ],
   "source": [
    "src_attribute = img_tag[\"src\"]\n",
    "src_attribute"
   ]
  },
  {
   "cell_type": "code",
   "execution_count": null,
   "id": "7438ce5f-b630-4d11-8b9c-1c75d8c10aa7",
   "metadata": {},
   "outputs": [],
   "source": []
  },
  {
   "cell_type": "code",
   "execution_count": 129,
   "id": "1f90b37e-f93b-4a4c-8e46-f4f8ca15e5c3",
   "metadata": {},
   "outputs": [
    {
     "data": {
      "text/plain": [
       "<a href=\"https://en.wikipedia.org/wiki/Lion\" target=\"_blank\">Lion</a>"
      ]
     },
     "execution_count": 129,
     "metadata": {},
     "output_type": "execute_result"
    }
   ],
   "source": [
    "a_tag"
   ]
  },
  {
   "cell_type": "code",
   "execution_count": 130,
   "id": "df0972db-b2e1-44e5-9034-6ca18ab5480e",
   "metadata": {},
   "outputs": [
    {
     "data": {
      "text/plain": [
       "'https://en.wikipedia.org/wiki/Lion'"
      ]
     },
     "execution_count": 130,
     "metadata": {},
     "output_type": "execute_result"
    }
   ],
   "source": [
    "a_tag[\"href\"]"
   ]
  },
  {
   "cell_type": "code",
   "execution_count": 131,
   "id": "223b9479-1567-46c7-aef1-7395bcbccf0d",
   "metadata": {},
   "outputs": [
    {
     "data": {
      "text/plain": [
       "'_blank'"
      ]
     },
     "execution_count": 131,
     "metadata": {},
     "output_type": "execute_result"
    }
   ],
   "source": [
    "a_tag[\"target\"]"
   ]
  },
  {
   "cell_type": "code",
   "execution_count": null,
   "id": "fa29e3e2-6674-44a6-91ac-8443cda1593e",
   "metadata": {},
   "outputs": [],
   "source": []
  },
  {
   "cell_type": "markdown",
   "id": "b97bf762-bfdb-4bcf-bad3-27242d518482",
   "metadata": {},
   "source": [
    "## Scraping a Web Page"
   ]
  },
  {
   "cell_type": "code",
   "execution_count": 132,
   "id": "5236610e-1534-41e2-b6c6-0556b627f472",
   "metadata": {},
   "outputs": [
    {
     "name": "stdout",
     "output_type": "stream",
     "text": [
      "Requirement already satisfied: requests in /opt/anaconda3/lib/python3.12/site-packages (2.32.2)\n",
      "Requirement already satisfied: charset-normalizer<4,>=2 in /opt/anaconda3/lib/python3.12/site-packages (from requests) (2.0.4)\n",
      "Requirement already satisfied: idna<4,>=2.5 in /opt/anaconda3/lib/python3.12/site-packages (from requests) (3.7)\n",
      "Requirement already satisfied: urllib3<3,>=1.21.1 in /opt/anaconda3/lib/python3.12/site-packages (from requests) (2.2.2)\n",
      "Requirement already satisfied: certifi>=2017.4.17 in /opt/anaconda3/lib/python3.12/site-packages (from requests) (2024.6.2)\n",
      "Note: you may need to restart the kernel to use updated packages.\n"
     ]
    }
   ],
   "source": [
    "pip install requests"
   ]
  },
  {
   "cell_type": "code",
   "execution_count": 133,
   "id": "1f17445f-8f63-4806-854b-8db0908a389a",
   "metadata": {},
   "outputs": [],
   "source": [
    "import requests"
   ]
  },
  {
   "cell_type": "code",
   "execution_count": 135,
   "id": "c6b4e63e-4015-4419-8778-9c867bc163a7",
   "metadata": {},
   "outputs": [],
   "source": [
    "from bs4 import BeautifulSoup"
   ]
  },
  {
   "cell_type": "code",
   "execution_count": 136,
   "id": "36612bf4-3c4e-44cc-a168-036f5415c3e3",
   "metadata": {},
   "outputs": [
    {
     "data": {
      "text/plain": [
       "<Response [200]>"
      ]
     },
     "execution_count": 136,
     "metadata": {},
     "output_type": "execute_result"
    }
   ],
   "source": [
    "requests.get(\"https://www.example.com\")   #get() metodu ile istediğimiz herhangi web sayfaya gidebiliriz !!"
   ]
  },
  {
   "cell_type": "code",
   "execution_count": null,
   "id": "689aac7f-9d08-48f5-b834-439c04e91a4b",
   "metadata": {},
   "outputs": [],
   "source": [
    "#bu <Response [200]>  demek başarılı istek demektir "
   ]
  },
  {
   "cell_type": "code",
   "execution_count": 138,
   "id": "c9cb47ef-a64a-457c-996e-48241971e813",
   "metadata": {},
   "outputs": [
    {
     "data": {
      "text/plain": [
       "200"
      ]
     },
     "execution_count": 138,
     "metadata": {},
     "output_type": "execute_result"
    }
   ],
   "source": [
    "result =requests.get(\"https://www.example.com\")\n",
    "result.status_code  "
   ]
  },
  {
   "cell_type": "code",
   "execution_count": 140,
   "id": "cc9c8553-97bf-4027-9ef6-0202906f8663",
   "metadata": {},
   "outputs": [
    {
     "data": {
      "text/plain": [
       "b'<!doctype html>\\n<html>\\n<head>\\n    <title>Example Domain</title>\\n\\n    <meta charset=\"utf-8\" />\\n    <meta http-equiv=\"Content-type\" content=\"text/html; charset=utf-8\" />\\n    <meta name=\"viewport\" content=\"width=device-width, initial-scale=1\" />\\n    <style type=\"text/css\">\\n    body {\\n        background-color: #f0f0f2;\\n        margin: 0;\\n        padding: 0;\\n        font-family: -apple-system, system-ui, BlinkMacSystemFont, \"Segoe UI\", \"Open Sans\", \"Helvetica Neue\", Helvetica, Arial, sans-serif;\\n        \\n    }\\n    div {\\n        width: 600px;\\n        margin: 5em auto;\\n        padding: 2em;\\n        background-color: #fdfdff;\\n        border-radius: 0.5em;\\n        box-shadow: 2px 3px 7px 2px rgba(0,0,0,0.02);\\n    }\\n    a:link, a:visited {\\n        color: #38488f;\\n        text-decoration: none;\\n    }\\n    @media (max-width: 700px) {\\n        div {\\n            margin: 0 auto;\\n            width: auto;\\n        }\\n    }\\n    </style>    \\n</head>\\n\\n<body>\\n<div>\\n    <h1>Example Domain</h1>\\n    <p>This domain is for use in illustrative examples in documents. You may use this\\n    domain in literature without prior coordination or asking for permission.</p>\\n    <p><a href=\"https://www.iana.org/domains/example\">More information...</a></p>\\n</div>\\n</body>\\n</html>\\n'"
      ]
     },
     "execution_count": 140,
     "metadata": {},
     "output_type": "execute_result"
    }
   ],
   "source": [
    "result.content  #sayfa içeriği olan HTML içeri almak için contentkullandık"
   ]
  },
  {
   "cell_type": "code",
   "execution_count": 142,
   "id": "9cfb3e17-9cb2-4544-88d0-0744d1ffe457",
   "metadata": {},
   "outputs": [],
   "source": [
    "html =result.content"
   ]
  },
  {
   "cell_type": "code",
   "execution_count": 143,
   "id": "9823e79b-d4c6-4389-8f53-3456f2ea2dce",
   "metadata": {},
   "outputs": [],
   "source": [
    "soup = BeautifulSoup(html , \"html.parser\")"
   ]
  },
  {
   "cell_type": "code",
   "execution_count": 149,
   "id": "0f7f93f3-c445-4d35-bf9c-2d87133b7b76",
   "metadata": {},
   "outputs": [
    {
     "data": {
      "text/plain": [
       "<h1>Example Domain</h1>"
      ]
     },
     "execution_count": 149,
     "metadata": {},
     "output_type": "execute_result"
    }
   ],
   "source": [
    "soup.find(\"h1\")"
   ]
  },
  {
   "cell_type": "code",
   "execution_count": 150,
   "id": "ad171ae3-297b-441b-91cb-be9048e09a2a",
   "metadata": {},
   "outputs": [
    {
     "data": {
      "text/plain": [
       "'Example Domain'"
      ]
     },
     "execution_count": 150,
     "metadata": {},
     "output_type": "execute_result"
    }
   ],
   "source": [
    "soup.find(\"h1\").text"
   ]
  },
  {
   "cell_type": "code",
   "execution_count": 147,
   "id": "93ae3776-c6ea-4e58-b007-039ff74b4cc3",
   "metadata": {},
   "outputs": [
    {
     "name": "stdout",
     "output_type": "stream",
     "text": [
      "<!DOCTYPE html>\n",
      "<html>\n",
      " <head>\n",
      "  <title>\n",
      "   Example Domain\n",
      "  </title>\n",
      "  <meta charset=\"utf-8\"/>\n",
      "  <meta content=\"text/html; charset=utf-8\" http-equiv=\"Content-type\"/>\n",
      "  <meta content=\"width=device-width, initial-scale=1\" name=\"viewport\"/>\n",
      "  <style type=\"text/css\">\n",
      "   body {\n",
      "        background-color: #f0f0f2;\n",
      "        margin: 0;\n",
      "        padding: 0;\n",
      "        font-family: -apple-system, system-ui, BlinkMacSystemFont, \"Segoe UI\", \"Open Sans\", \"Helvetica Neue\", Helvetica, Arial, sans-serif;\n",
      "        \n",
      "    }\n",
      "    div {\n",
      "        width: 600px;\n",
      "        margin: 5em auto;\n",
      "        padding: 2em;\n",
      "        background-color: #fdfdff;\n",
      "        border-radius: 0.5em;\n",
      "        box-shadow: 2px 3px 7px 2px rgba(0,0,0,0.02);\n",
      "    }\n",
      "    a:link, a:visited {\n",
      "        color: #38488f;\n",
      "        text-decoration: none;\n",
      "    }\n",
      "    @media (max-width: 700px) {\n",
      "        div {\n",
      "            margin: 0 auto;\n",
      "            width: auto;\n",
      "        }\n",
      "    }\n",
      "  </style>\n",
      " </head>\n",
      " <body>\n",
      "  <div>\n",
      "   <h1>\n",
      "    Example Domain\n",
      "   </h1>\n",
      "   <p>\n",
      "    This domain is for use in illustrative examples in documents. You may use this\n",
      "    domain in literature without prior coordination or asking for permission.\n",
      "   </p>\n",
      "   <p>\n",
      "    <a href=\"https://www.iana.org/domains/example\">\n",
      "     More information...\n",
      "    </a>\n",
      "   </p>\n",
      "  </div>\n",
      " </body>\n",
      "</html>\n",
      "\n"
     ]
    }
   ],
   "source": [
    "print(soup.prettify())   # DÜZENLİ GÖRÜNÜM prettify"
   ]
  },
  {
   "cell_type": "markdown",
   "id": "fc1508e1-11e0-4f62-97a6-8925689c11e9",
   "metadata": {},
   "source": [
    "# SELENIUM "
   ]
  },
  {
   "cell_type": "code",
   "execution_count": 152,
   "id": "1448866c-eef2-4994-9016-41924709da68",
   "metadata": {},
   "outputs": [
    {
     "name": "stdout",
     "output_type": "stream",
     "text": [
      "Requirement already satisfied: selenium in /opt/anaconda3/lib/python3.12/site-packages (4.25.0)\n",
      "Requirement already satisfied: urllib3<3,>=1.26 in /opt/anaconda3/lib/python3.12/site-packages (from urllib3[socks]<3,>=1.26->selenium) (2.2.2)\n",
      "Requirement already satisfied: trio~=0.17 in /opt/anaconda3/lib/python3.12/site-packages (from selenium) (0.26.2)\n",
      "Requirement already satisfied: trio-websocket~=0.9 in /opt/anaconda3/lib/python3.12/site-packages (from selenium) (0.11.1)\n",
      "Requirement already satisfied: certifi>=2021.10.8 in /opt/anaconda3/lib/python3.12/site-packages (from selenium) (2024.6.2)\n",
      "Requirement already satisfied: typing_extensions~=4.9 in /opt/anaconda3/lib/python3.12/site-packages (from selenium) (4.11.0)\n",
      "Requirement already satisfied: websocket-client~=1.8 in /opt/anaconda3/lib/python3.12/site-packages (from selenium) (1.8.0)\n",
      "Requirement already satisfied: attrs>=23.2.0 in /opt/anaconda3/lib/python3.12/site-packages (from trio~=0.17->selenium) (24.2.0)\n",
      "Requirement already satisfied: sortedcontainers in /opt/anaconda3/lib/python3.12/site-packages (from trio~=0.17->selenium) (2.4.0)\n",
      "Requirement already satisfied: idna in /opt/anaconda3/lib/python3.12/site-packages (from trio~=0.17->selenium) (3.7)\n",
      "Requirement already satisfied: outcome in /opt/anaconda3/lib/python3.12/site-packages (from trio~=0.17->selenium) (1.3.0.post0)\n",
      "Requirement already satisfied: sniffio>=1.3.0 in /opt/anaconda3/lib/python3.12/site-packages (from trio~=0.17->selenium) (1.3.0)\n",
      "Requirement already satisfied: wsproto>=0.14 in /opt/anaconda3/lib/python3.12/site-packages (from trio-websocket~=0.9->selenium) (1.2.0)\n",
      "Requirement already satisfied: pysocks!=1.5.7,<2.0,>=1.5.6 in /opt/anaconda3/lib/python3.12/site-packages (from urllib3[socks]<3,>=1.26->selenium) (1.7.1)\n",
      "Requirement already satisfied: h11<1,>=0.9.0 in /opt/anaconda3/lib/python3.12/site-packages (from wsproto>=0.14->trio-websocket~=0.9->selenium) (0.14.0)\n",
      "Note: you may need to restart the kernel to use updated packages.\n"
     ]
    }
   ],
   "source": [
    "pip install selenium   #Selenium kütüphanesini yükledik"
   ]
  },
  {
   "cell_type": "code",
   "execution_count": 159,
   "id": "d42a7035-2d55-47cf-bb81-8e54d679445d",
   "metadata": {},
   "outputs": [],
   "source": [
    "from selenium import webdriver"
   ]
  },
  {
   "cell_type": "code",
   "execution_count": 167,
   "id": "ed42b5d5-49ab-4404-bc4c-4361ceef0bde",
   "metadata": {},
   "outputs": [],
   "source": [
    "driver = webdriver.Chrome()\n",
    "driver.get(\"https://www.example.com\")   # example chorome da açıldı ! "
   ]
  },
  {
   "cell_type": "code",
   "execution_count": 171,
   "id": "65d78b49-23ea-49a4-954e-305cbb3b7230",
   "metadata": {},
   "outputs": [
    {
     "data": {
      "text/plain": [
       "'Example Domain'"
      ]
     },
     "execution_count": 171,
     "metadata": {},
     "output_type": "execute_result"
    }
   ],
   "source": [
    "driver.title    #tarayıcımızın başlığı"
   ]
  },
  {
   "cell_type": "code",
   "execution_count": 172,
   "id": "63020159-35f2-43ee-8b75-b0f71ce356b1",
   "metadata": {},
   "outputs": [
    {
     "data": {
      "text/plain": [
       "'https://www.example.com/'"
      ]
     },
     "execution_count": 172,
     "metadata": {},
     "output_type": "execute_result"
    }
   ],
   "source": [
    "driver.current_url #tarayıcı linki "
   ]
  },
  {
   "cell_type": "code",
   "execution_count": 174,
   "id": "6261449c-41d4-4421-b601-2e3d6253761e",
   "metadata": {},
   "outputs": [],
   "source": [
    "driver.quit() #tarayıcı kapatmak"
   ]
  },
  {
   "cell_type": "code",
   "execution_count": null,
   "id": "21235713-ae9c-4659-b44a-bcfba32b7955",
   "metadata": {},
   "outputs": [],
   "source": [
    "#miuul örneği "
   ]
  },
  {
   "cell_type": "code",
   "execution_count": 181,
   "id": "dec032c7-7b0b-4a55-ad59-14a64681202f",
   "metadata": {},
   "outputs": [],
   "source": [
    "from selenium import webdriver"
   ]
  },
  {
   "cell_type": "code",
   "execution_count": 182,
   "id": "f10cf226-19ce-4b43-91f0-365c992476f9",
   "metadata": {},
   "outputs": [],
   "source": [
    "driver1 = webdriver.Chrome()\n",
    "driver1.get(\"https://www.miuul.com\")   # miuul chorome da açıldı ! "
   ]
  },
  {
   "cell_type": "code",
   "execution_count": 183,
   "id": "2d95ddf3-248c-4c48-8ef4-eb5bcb073e5f",
   "metadata": {},
   "outputs": [
    {
     "data": {
      "text/plain": [
       "'Bootcamps, Kariyer Yolculukları ve Kurslar | Miuul'"
      ]
     },
     "execution_count": 183,
     "metadata": {},
     "output_type": "execute_result"
    }
   ],
   "source": [
    "driver1.title"
   ]
  },
  {
   "cell_type": "code",
   "execution_count": 186,
   "id": "ce3d980a-1309-4f99-b4a4-9f371cf6b7d3",
   "metadata": {},
   "outputs": [
    {
     "data": {
      "text/plain": [
       "'https://miuul.com/'"
      ]
     },
     "execution_count": 186,
     "metadata": {},
     "output_type": "execute_result"
    }
   ],
   "source": [
    "driver1.current_url"
   ]
  },
  {
   "cell_type": "code",
   "execution_count": 187,
   "id": "61abfcd2-85fe-4cad-90bd-955444fffd7f",
   "metadata": {},
   "outputs": [],
   "source": [
    "driver1.quit()"
   ]
  },
  {
   "cell_type": "markdown",
   "id": "aed61e1c-85d8-4cb7-b948-ba0cc9fdb846",
   "metadata": {},
   "source": [
    "#  Finding Elements and Extracting Data"
   ]
  },
  {
   "cell_type": "code",
   "execution_count": 188,
   "id": "afd7f53c-a272-44f9-a88d-a17b0d1b4ccd",
   "metadata": {},
   "outputs": [],
   "source": [
    "from selenium import webdriver"
   ]
  },
  {
   "cell_type": "code",
   "execution_count": 194,
   "id": "5079d094-1ada-420b-abd5-7c9534227d9b",
   "metadata": {},
   "outputs": [],
   "source": [
    "from selenium.webdriver.common.by import By"
   ]
  },
  {
   "cell_type": "code",
   "execution_count": 193,
   "id": "53bc9663-5282-4d15-9842-9fc99746a565",
   "metadata": {},
   "outputs": [],
   "source": [
    "driver = webdriver.Chrome()\n",
    "driver.get(\"https://www.example.com\")"
   ]
  },
  {
   "cell_type": "code",
   "execution_count": null,
   "id": "947a2bb2-9af1-49d0-a669-0f352975543e",
   "metadata": {},
   "outputs": [],
   "source": []
  },
  {
   "cell_type": "code",
   "execution_count": null,
   "id": "050bbbee-f709-423f-897f-f52e781187c9",
   "metadata": {},
   "outputs": [],
   "source": [
    "#(//a elementini bul incelediğin sayfadan)"
   ]
  },
  {
   "cell_type": "code",
   "execution_count": 195,
   "id": "246caab2-6cd3-4c43-9f23-2a0df8d6103a",
   "metadata": {},
   "outputs": [
    {
     "data": {
      "text/plain": [
       "<selenium.webdriver.remote.webelement.WebElement (session=\"829f8543138773825b8f809b6dff873c\", element=\"f.D21A0F568E58EDD5CA7C944B0749BD87.d.EAAEF000C75AD3A03E82ADE8B6490000.e.3\")>"
      ]
     },
     "execution_count": 195,
     "metadata": {},
     "output_type": "execute_result"
    }
   ],
   "source": [
    "element = driver.find_element(By.XPATH , \"//a\")\n",
    "element"
   ]
  },
  {
   "cell_type": "code",
   "execution_count": 197,
   "id": "c2df291d-1472-4dc5-87e1-fea870608cd3",
   "metadata": {},
   "outputs": [
    {
     "data": {
      "text/plain": [
       "'More information...'"
      ]
     },
     "execution_count": 197,
     "metadata": {},
     "output_type": "execute_result"
    }
   ],
   "source": [
    "element.text  # more information diyorsa Element doğru !!"
   ]
  },
  {
   "cell_type": "code",
   "execution_count": 200,
   "id": "3a0501fe-682e-46fd-b2d1-91a9cc157c57",
   "metadata": {},
   "outputs": [
    {
     "data": {
      "text/plain": [
       "'https://www.iana.org/domains/example'"
      ]
     },
     "execution_count": 200,
     "metadata": {},
     "output_type": "execute_result"
    }
   ],
   "source": [
    "element.get_attribute(\"href\")"
   ]
  },
  {
   "cell_type": "code",
   "execution_count": 202,
   "id": "6215c9d1-82b1-4145-b1e1-00820ad5ae84",
   "metadata": {},
   "outputs": [
    {
     "data": {
      "text/plain": [
       "'More information...'"
      ]
     },
     "execution_count": 202,
     "metadata": {},
     "output_type": "execute_result"
    }
   ],
   "source": [
    "element.get_attribute(\"innerHTML\") #Element içinde yer alan HTML bize verecek "
   ]
  },
  {
   "cell_type": "markdown",
   "id": "c92a7a42-3c0d-4d7f-8bb7-260a6c2ae7fc",
   "metadata": {},
   "source": [
    "# Finding Elements (Better Approach)"
   ]
  },
  {
   "cell_type": "code",
   "execution_count": 215,
   "id": "4c066fb4-4f3e-4f06-97ce-92579aecd303",
   "metadata": {},
   "outputs": [],
   "source": [
    "from selenium import webdriver\n",
    "from selenium.webdriver.common.by import By\n"
   ]
  },
  {
   "cell_type": "code",
   "execution_count": 209,
   "id": "736890e3-9f97-4965-a19a-826844f32517",
   "metadata": {},
   "outputs": [],
   "source": [
    "import time"
   ]
  },
  {
   "cell_type": "code",
   "execution_count": 216,
   "id": "f080e99b-71ef-4904-9235-37b6b90b9b1b",
   "metadata": {},
   "outputs": [],
   "source": [
    "driver = webdriver.Chrome()\n",
    "driver.get(\"https://www.example.com\")\n",
    "time.sleep(2)"
   ]
  },
  {
   "cell_type": "code",
   "execution_count": 225,
   "id": "13bf7b13-21aa-49c8-9cef-ab9c2b99e183",
   "metadata": {},
   "outputs": [
    {
     "data": {
      "text/plain": [
       "[<selenium.webdriver.remote.webelement.WebElement (session=\"aba5011038f91a14a1fe68c4e121480d\", element=\"f.32D870CAD6E6F9800DA1299FFDE46E3E.d.A95DFF68782BEDBDEC3D548393B52C84.e.3\")>,\n",
       " <selenium.webdriver.remote.webelement.WebElement (session=\"aba5011038f91a14a1fe68c4e121480d\", element=\"f.32D870CAD6E6F9800DA1299FFDE46E3E.d.A95DFF68782BEDBDEC3D548393B52C84.e.4\")>]"
      ]
     },
     "execution_count": 225,
     "metadata": {},
     "output_type": "execute_result"
    }
   ],
   "source": [
    "p_elements = driver.find_elements(By.XPATH, \"//p\")\n",
    "p_elements \n",
    "\n"
   ]
  },
  {
   "cell_type": "code",
   "execution_count": null,
   "id": "f5936595-2f81-4096-aae1-7577f64b899a",
   "metadata": {},
   "outputs": [],
   "source": []
  },
  {
   "cell_type": "code",
   "execution_count": 222,
   "id": "d8f6d8cd-c8fa-40d2-a6b8-8afb38e5c831",
   "metadata": {},
   "outputs": [
    {
     "name": "stdout",
     "output_type": "stream",
     "text": [
      "Element not found\n",
      "None\n"
     ]
    }
   ],
   "source": [
    "elem = None\n",
    "if p_elements:\n",
    "    elem = p_elements[0]\n",
    "else:\n",
    "    print(\"Element not found\")\n",
    "\n",
    "print(elem)"
   ]
  },
  {
   "cell_type": "markdown",
   "id": "2a9212fd-5222-436e-86ed-acbeb778a3bf",
   "metadata": {},
   "source": [
    "# Interacting with Elements"
   ]
  },
  {
   "cell_type": "code",
   "execution_count": 254,
   "id": "1d9dea08-1bfb-4277-9f70-eccbf8d59ac4",
   "metadata": {},
   "outputs": [],
   "source": [
    "import time\n",
    "\n",
    "from selenium import webdriver\n",
    "from selenium.webdriver.common.by import By\n",
    "from selenium.webdriver.common.keys import Keys\n"
   ]
  },
  {
   "cell_type": "code",
   "execution_count": 271,
   "id": "b471f2fb-a642-4a07-b0d1-1942b5aaafee",
   "metadata": {},
   "outputs": [],
   "source": [
    "driver = webdriver.Chrome()\n",
    "driver.get(\"https://www.miuul.com\")\n",
    "time.sleep(2)\n"
   ]
  },
  {
   "cell_type": "code",
   "execution_count": 252,
   "id": "4f84308f-c6e0-4d44-812c-3ba2826f5165",
   "metadata": {},
   "outputs": [],
   "source": [
    "btn_elements = driver.find_elements(By.XPATH, \"//a[@id='login']\")\n",
    "btn = btn_elements[0]\n"
   ]
  },
  {
   "cell_type": "code",
   "execution_count": 246,
   "id": "673943dc-a274-4af7-beb5-af3061bd04f6",
   "metadata": {},
   "outputs": [],
   "source": [
    "btn.click()"
   ]
  },
  {
   "cell_type": "code",
   "execution_count": null,
   "id": "ecd7a491-25f8-4674-a414-addae1dd45b9",
   "metadata": {},
   "outputs": [],
   "source": []
  },
  {
   "cell_type": "code",
   "execution_count": null,
   "id": "66e89b69-2a24-410d-8601-45857c6384b3",
   "metadata": {},
   "outputs": [],
   "source": []
  },
  {
   "cell_type": "code",
   "execution_count": null,
   "id": "671ab0d3-45d8-46c8-a9c0-31b97ebd13e4",
   "metadata": {},
   "outputs": [],
   "source": []
  },
  {
   "cell_type": "code",
   "execution_count": null,
   "id": "4608acc0-ee70-4323-bb89-a63542764b0e",
   "metadata": {},
   "outputs": [],
   "source": []
  },
  {
   "cell_type": "code",
   "execution_count": 256,
   "id": "2476a9e7-be36-4ab1-afab-be84e8bc1822",
   "metadata": {},
   "outputs": [],
   "source": [
    "import time\n",
    "\n",
    "from selenium import webdriver\n",
    "from selenium.webdriver.common.by import By\n",
    "from selenium.webdriver.common.keys import Keys\n"
   ]
  },
  {
   "cell_type": "code",
   "execution_count": 257,
   "id": "e07641c1-d913-4fee-aa8e-65f08767b882",
   "metadata": {},
   "outputs": [],
   "source": [
    "driver = webdriver.Chrome()\n",
    "driver.get(\"https://www.miuul.com\")\n",
    "time.sleep(2)"
   ]
  },
  {
   "cell_type": "code",
   "execution_count": null,
   "id": "fb3ed52f-0fbc-442b-a2e5-0a6c558ee4f0",
   "metadata": {},
   "outputs": [],
   "source": [
    "#arama butonunu elementi bulma!sağclick incele yaptık !"
   ]
  },
  {
   "cell_type": "code",
   "execution_count": null,
   "id": "ee1f5d6f-c7c9-4321-a3bc-48ed75b84b1d",
   "metadata": {},
   "outputs": [],
   "source": [
    "#  //input[@name='arama']"
   ]
  },
  {
   "cell_type": "code",
   "execution_count": 259,
   "id": "28151c22-4b78-47a3-b838-3e77a4ea66bb",
   "metadata": {},
   "outputs": [],
   "source": [
    "inputs = driver.find_elements(By.XPATH, \"//input[@name='arama']\")\n",
    "input = inputs[0]\n"
   ]
  },
  {
   "cell_type": "code",
   "execution_count": 260,
   "id": "cf7d7f8f-9ba9-42ea-9cfe-399e3ea5032b",
   "metadata": {},
   "outputs": [],
   "source": [
    "input.send_keys(\"Data Science\", Keys.ENTER)"
   ]
  },
  {
   "cell_type": "markdown",
   "id": "ec27370c-2cb9-480f-b0f7-63c0a2a968f9",
   "metadata": {},
   "source": [
    "# Scrolling and Scrolling Inside Dropdown"
   ]
  },
  {
   "cell_type": "code",
   "execution_count": 261,
   "id": "6baefd09-9caa-43a6-a78f-e098963d63c6",
   "metadata": {},
   "outputs": [],
   "source": [
    "import time\n",
    "\n",
    "from selenium import webdriver\n",
    "from selenium.webdriver.common.by import By\n",
    "from selenium.webdriver.common.keys import Keys"
   ]
  },
  {
   "cell_type": "code",
   "execution_count": 309,
   "id": "f10e4a17-fa2b-47f1-9b28-b047d598ed58",
   "metadata": {},
   "outputs": [],
   "source": [
    "options = webdriver.ChromeOptions () #WebDriver’a tarayıcı ile nasıl çalışması gerektiğini söylemek için bu seçenekleri kullanırız\n",
    "options.add_argument(\"--start-maximized\") #tarayıcı penceresinin tam ekran modunda açılmasını sağlar. \n",
    "driver = webdriver.Chrome(options)  #Chrome tarayıcı kullanılarak WebDriver başlatılır. \n",
    "driver.get(\"https://miuul.com/katalog\") \n",
    "time.sleep(2) #program 2 saniye bekler. Bu bekleme süresi, sayfanın tam olarak yüklenmesi veya diğer işlemler için zaman tanır.\n",
    "\n",
    "a_element = driver.find_elements(By.XPATH, \"//a[contains(@href,'deep-learning-path')]\")[1]\n",
    "driver.execute_script(\"arguments[0].focus();\", a_element)\n",
    "#driver.execute_script(\"arguments[0].scrollIntoView(true);\", a_element)  # iki script de kullanılabilir yukarıdaki ile \n",
    "time.sleep(2)\n",
    "a_element.click()  # Bağlantıyı tıkla\n",
    "\n",
    "\n",
    "\n",
    "\n"
   ]
  },
  {
   "cell_type": "code",
   "execution_count": null,
   "id": "9ef8a930-b7f8-4c84-8fe7-d9ed99520128",
   "metadata": {},
   "outputs": [],
   "source": []
  },
  {
   "cell_type": "markdown",
   "id": "8b675424-6237-45b5-b3ad-3750497d5a37",
   "metadata": {},
   "source": [
    "##### DROP-DOWN SCROOL"
   ]
  },
  {
   "cell_type": "code",
   "execution_count": 302,
   "id": "14d28f8f-ebe0-489d-b34b-cad0c124e9e8",
   "metadata": {},
   "outputs": [],
   "source": [
    "import time\n",
    "\n",
    "from selenium import webdriver\n",
    "from selenium.webdriver.common.by import By\n",
    "from selenium.webdriver.common.keys import Keys"
   ]
  },
  {
   "cell_type": "code",
   "execution_count": 317,
   "id": "6ecccfd1-2b1d-4a00-b6af-222c8bf4fb13",
   "metadata": {},
   "outputs": [],
   "source": [
    "options = webdriver.ChromeOptions () #WebDriver’a tarayıcı ile nasıl çalışması gerektiğini söylemek için bu seçenekleri kullanırız\n",
    "options.add_argument(\"--start-maximized\") #tarayıcı penceresinin tam ekran modunda açılmasını sağlar. \n",
    "driver = webdriver.Chrome(options)  #Chrome tarayıcı kullanılarak WebDriver başlatılır. \n",
    "driver.get(\"https://miuul.com/katalog\") \n",
    "time.sleep(2) #program 2 saniye bekler. Bu bekleme süresi, sayfanın tam olarak yüklenmesi veya diğer işlemler için zaman tanır.\n",
    "\n",
    "\n",
    "dropdown_button = driver.find_elements(By.XPATH, \"//a[@data-bs-toggle='dropdown']\")[1]\n",
    "dropdown_button.click()\n",
    "time.sleep(0.5)\n",
    "ul_element = driver.find_elements(By.XPATH, \"//ul[@aria-labelledby='navbarDropdown']\")[1]\n",
    "driver.execute_script(\"arguments[0].setAttribute('style', arguments[1]);\", ul_element, \"overflow: scroll; height:80px;\") \n",
    "#JavaScript kullanılarak, açılır menüye scroll eklenir ve yüksekliği 80 piksel olarak ayarlanır\n",
    "\n",
    "driver.execute_script(\"arguments[0].focus();\", ul_element)\n",
    "#JavaScript ile bu kod liste öğesine odaklanır yani liste seçilip aktif hale getirilir.\n",
    "\n",
    "from selenium.webdriver.common.action_chains import ActionChains\n",
    "#Selenium’un ActionChains sınıfını projeye dahil eder. Bu sınıf, klavye ve fare hareketlerini simüle etmek için kullanılır.\n",
    "\n",
    "action = ActionChains(driver)\n",
    "#ActionChains nesnesi oluşturulur. Bu nesneyle tarayıcıda fare ve klavye eylemleri yapılır.\n",
    "\n",
    "action.send_keys(Keys.ARROW_DOWN).perform()\n",
    "#ActionChains kullanarak klavyeden aşağı ok tuşuna basma işlemi gerçekleştirilir.\n",
    "\n",
    "time.sleep(0.25)  #programı 0.25 saniye duraklatır\n",
    "\n",
    "action.send_keys(Keys.ARROW_DOWN).perform()\n",
    "\n",
    "time.sleep(0.25)\n",
    "\n",
    "action.send_keys(Keys.ARROW_DOWN).perform()\n",
    "\n",
    "\n",
    "\n",
    "#.perform() metodu, Selenium’daki ActionChains sınıfı ile yapılan bir veya birden fazla eylemin \n",
    "#(klavye veya fare hareketlerinin) tarayıcıda gerçekleştirilmesini sağlar. "
   ]
  },
  {
   "cell_type": "markdown",
   "id": "402e08cb-49a5-4f6a-8cc6-6cc2bfbc2582",
   "metadata": {},
   "source": []
  },
  {
   "cell_type": "markdown",
   "id": "581d9398-c85c-4c97-b5b3-f27d44b85cfc",
   "metadata": {},
   "source": [
    "# Pagination"
   ]
  },
  {
   "cell_type": "code",
   "execution_count": 323,
   "id": "635057d5-a2b8-4dee-8504-971d85178740",
   "metadata": {},
   "outputs": [
    {
     "name": "stdout",
     "output_type": "stream",
     "text": [
      "[]\n",
      "0\n"
     ]
    }
   ],
   "source": [
    "import time\n",
    "\n",
    "from selenium import webdriver\n",
    "from selenium.webdriver.common.by import By\n",
    "from selenium.webdriver.common.keys import Keys\n",
    "\n",
    "# Initialize Driver\n",
    "options = webdriver.ChromeOptions()\n",
    "options.add_argument(\"--start-maximized\")\n",
    "driver = webdriver.Chrome(options)\n",
    "driver.get(\"https://learning.miuul.com/enrollments\")\n",
    "\n",
    "course_titles = []\n",
    "for i in range(1,999):  #Bir döngü başlatılıyor. 1’den 999’a kadar olan sayfaları tarayacak.\n",
    "    \n",
    "    driver.get(f\"https://learning.miuul.com/enrollments?page={i}\")    \n",
    "    #Döngüde her sayfa için ilgili URL’yi açıyor ve her seferinde farklı bir sayfayı hedefliyor.\n",
    "   \n",
    "    # Get Course Titles Per Page\n",
    "    course_elements = driver.find_elements(By.XPATH, \"//ul//h3\")  #kurs başlıklarını h3 etiketleri kullanarak buluyor.\n",
    "    if not course_elements: # len(course_elements) <= 0    #Eğer sayfada kurs başlığı yoksa (yani boşsa), döngüyü durduruyor.\n",
    "        break\n",
    "   \n",
    "    \n",
    "    for course in course_elements:   #Bulunan her kurs başlığı üzerinde tek tek işlem yapmak için bir alt döngü başlatılıyor.\n",
    "        title = course.get_attribute(\"innerText\")  #innerText özelliği kullanılarak başlık bilgisi alınıyor.\n",
    "        course_titles.append(title)   #Alınan kurs başlığı, daha önce oluşturulan course_titles listesine ekleniyor.\n",
    "\n",
    "print(course_titles)\n",
    "print(len(course_titles))\n",
    "\n"
   ]
  },
  {
   "cell_type": "code",
   "execution_count": null,
   "id": "7c8ca504-486b-481e-b346-28ddc26af8ee",
   "metadata": {},
   "outputs": [],
   "source": [
    "--------- burda birr hata var çözümleyeceğim !!!!\n"
   ]
  },
  {
   "cell_type": "code",
   "execution_count": null,
   "id": "9ebd5498-3fd8-49e3-b297-d429d0fbcfe5",
   "metadata": {},
   "outputs": [],
   "source": []
  },
  {
   "cell_type": "markdown",
   "id": "5ab8ff9d-f831-48b1-a662-d0fc1625bcf3",
   "metadata": {},
   "source": [
    "# Scraping a Web Page"
   ]
  },
  {
   "cell_type": "code",
   "execution_count": 325,
   "id": "d1dfd620-7bd0-4a30-950f-4c880b3557ea",
   "metadata": {},
   "outputs": [],
   "source": [
    "import time\n",
    "\n",
    "from selenium import webdriver\n",
    "from selenium.webdriver.common.by import By\n",
    "from selenium.webdriver.common.keys import Keys\n",
    "import pandas as pd\n",
    "\n",
    "# Initialize Driver\n",
    "options = webdriver.ChromeOptions()\n",
    "options.add_argument(\"--start-maximized\")\n",
    "driver = webdriver.Chrome(options)\n",
    "driver.get(\"https://miuul.com/katalog\")\n",
    "time.sleep(2)\n",
    "\n",
    "#NOT   \n",
    "#input = driver.find_elements(By.XPATH , \"//label[contains(text(),'İleri')]/preciding-sibling::input\")\n",
    "#input = driver.find_elements(By.XPATH , \"//label[contains(text(),'İleri')]/parent::div/input\")  iki kod aynı\n",
    "\n",
    "\n",
    "input = driver.find_elements(By.XPATH, \"//label[contains(text(),'İleri')]/preceding-sibling::input\")\n",
    "input[0].click() if input else None\n",
    "\n",
    "\n"
   ]
  },
  {
   "cell_type": "code",
   "execution_count": null,
   "id": "099bed74-352f-4aed-8ada-75bc8f20f992",
   "metadata": {},
   "outputs": [],
   "source": []
  },
  {
   "cell_type": "code",
   "execution_count": 327,
   "id": "e26da8d8-0b48-4e00-9288-f7e90c17840b",
   "metadata": {},
   "outputs": [
    {
     "ename": "NoSuchWindowException",
     "evalue": "Message: no such window: target window already closed\nfrom unknown error: web view not found\n  (Session info: chrome=129.0.6668.90)\nStacktrace:\n0   chromedriver                        0x0000000102898248 cxxbridge1$str$ptr + 1907280\n1   chromedriver                        0x0000000102890730 cxxbridge1$str$ptr + 1875768\n2   chromedriver                        0x00000001024a4260 cxxbridge1$string$len + 89488\n3   chromedriver                        0x000000010247f728 core::str::slice_error_fail::hbaf5d05fe3921cd2 + 3776\n4   chromedriver                        0x000000010250ee8c cxxbridge1$string$len + 526780\n5   chromedriver                        0x0000000102522218 cxxbridge1$string$len + 605512\n6   chromedriver                        0x00000001024dd12c cxxbridge1$string$len + 322652\n7   chromedriver                        0x00000001024ddd7c cxxbridge1$string$len + 325804\n8   chromedriver                        0x00000001028604d8 cxxbridge1$str$ptr + 1678560\n9   chromedriver                        0x0000000102864e40 cxxbridge1$str$ptr + 1697352\n10  chromedriver                        0x00000001028455ec cxxbridge1$str$ptr + 1568244\n11  chromedriver                        0x0000000102865710 cxxbridge1$str$ptr + 1699608\n12  chromedriver                        0x0000000102836b90 cxxbridge1$str$ptr + 1508248\n13  chromedriver                        0x0000000102881828 cxxbridge1$str$ptr + 1814576\n14  chromedriver                        0x0000000102881980 cxxbridge1$str$ptr + 1814920\n15  chromedriver                        0x00000001028903d0 cxxbridge1$str$ptr + 1874904\n16  libsystem_pthread.dylib             0x0000000199d4ef94 _pthread_start + 136\n17  libsystem_pthread.dylib             0x0000000199d49d34 thread_start + 8\n",
     "output_type": "error",
     "traceback": [
      "\u001b[0;31m---------------------------------------------------------------------------\u001b[0m",
      "\u001b[0;31mNoSuchWindowException\u001b[0m                     Traceback (most recent call last)",
      "Cell \u001b[0;32mIn[327], line 1\u001b[0m\n\u001b[0;32m----> 1\u001b[0m course_blocks \u001b[38;5;241m=\u001b[39m driver\u001b[38;5;241m.\u001b[39mfind_elements(By\u001b[38;5;241m.\u001b[39mXPATH, \u001b[38;5;124m\"\u001b[39m\u001b[38;5;124m//div[contains(@class,\u001b[39m\u001b[38;5;124m'\u001b[39m\u001b[38;5;124mcard catalog\u001b[39m\u001b[38;5;124m'\u001b[39m\u001b[38;5;124m))]\u001b[39m\u001b[38;5;124m\"\u001b[39m)\n\u001b[1;32m      3\u001b[0m data\u001b[38;5;241m=\u001b[39m []\n\u001b[1;32m      4\u001b[0m \u001b[38;5;28;01mfor\u001b[39;00m block \u001b[38;5;129;01min\u001b[39;00m course_blocks:\n",
      "File \u001b[0;32m/opt/anaconda3/lib/python3.12/site-packages/selenium/webdriver/remote/webdriver.py:778\u001b[0m, in \u001b[0;36mWebDriver.find_elements\u001b[0;34m(self, by, value)\u001b[0m\n\u001b[1;32m    774\u001b[0m     value \u001b[38;5;241m=\u001b[39m \u001b[38;5;124mf\u001b[39m\u001b[38;5;124m'\u001b[39m\u001b[38;5;124m[name=\u001b[39m\u001b[38;5;124m\"\u001b[39m\u001b[38;5;132;01m{\u001b[39;00mvalue\u001b[38;5;132;01m}\u001b[39;00m\u001b[38;5;124m\"\u001b[39m\u001b[38;5;124m]\u001b[39m\u001b[38;5;124m'\u001b[39m\n\u001b[1;32m    776\u001b[0m \u001b[38;5;66;03m# Return empty list if driver returns null\u001b[39;00m\n\u001b[1;32m    777\u001b[0m \u001b[38;5;66;03m# See https://github.com/SeleniumHQ/selenium/issues/4555\u001b[39;00m\n\u001b[0;32m--> 778\u001b[0m \u001b[38;5;28;01mreturn\u001b[39;00m \u001b[38;5;28mself\u001b[39m\u001b[38;5;241m.\u001b[39mexecute(Command\u001b[38;5;241m.\u001b[39mFIND_ELEMENTS, {\u001b[38;5;124m\"\u001b[39m\u001b[38;5;124musing\u001b[39m\u001b[38;5;124m\"\u001b[39m: by, \u001b[38;5;124m\"\u001b[39m\u001b[38;5;124mvalue\u001b[39m\u001b[38;5;124m\"\u001b[39m: value})[\u001b[38;5;124m\"\u001b[39m\u001b[38;5;124mvalue\u001b[39m\u001b[38;5;124m\"\u001b[39m] \u001b[38;5;129;01mor\u001b[39;00m []\n",
      "File \u001b[0;32m/opt/anaconda3/lib/python3.12/site-packages/selenium/webdriver/remote/webdriver.py:354\u001b[0m, in \u001b[0;36mWebDriver.execute\u001b[0;34m(self, driver_command, params)\u001b[0m\n\u001b[1;32m    352\u001b[0m response \u001b[38;5;241m=\u001b[39m \u001b[38;5;28mself\u001b[39m\u001b[38;5;241m.\u001b[39mcommand_executor\u001b[38;5;241m.\u001b[39mexecute(driver_command, params)\n\u001b[1;32m    353\u001b[0m \u001b[38;5;28;01mif\u001b[39;00m response:\n\u001b[0;32m--> 354\u001b[0m     \u001b[38;5;28mself\u001b[39m\u001b[38;5;241m.\u001b[39merror_handler\u001b[38;5;241m.\u001b[39mcheck_response(response)\n\u001b[1;32m    355\u001b[0m     response[\u001b[38;5;124m\"\u001b[39m\u001b[38;5;124mvalue\u001b[39m\u001b[38;5;124m\"\u001b[39m] \u001b[38;5;241m=\u001b[39m \u001b[38;5;28mself\u001b[39m\u001b[38;5;241m.\u001b[39m_unwrap_value(response\u001b[38;5;241m.\u001b[39mget(\u001b[38;5;124m\"\u001b[39m\u001b[38;5;124mvalue\u001b[39m\u001b[38;5;124m\"\u001b[39m, \u001b[38;5;28;01mNone\u001b[39;00m))\n\u001b[1;32m    356\u001b[0m     \u001b[38;5;28;01mreturn\u001b[39;00m response\n",
      "File \u001b[0;32m/opt/anaconda3/lib/python3.12/site-packages/selenium/webdriver/remote/errorhandler.py:229\u001b[0m, in \u001b[0;36mErrorHandler.check_response\u001b[0;34m(self, response)\u001b[0m\n\u001b[1;32m    227\u001b[0m         alert_text \u001b[38;5;241m=\u001b[39m value[\u001b[38;5;124m\"\u001b[39m\u001b[38;5;124malert\u001b[39m\u001b[38;5;124m\"\u001b[39m]\u001b[38;5;241m.\u001b[39mget(\u001b[38;5;124m\"\u001b[39m\u001b[38;5;124mtext\u001b[39m\u001b[38;5;124m\"\u001b[39m)\n\u001b[1;32m    228\u001b[0m     \u001b[38;5;28;01mraise\u001b[39;00m exception_class(message, screen, stacktrace, alert_text)  \u001b[38;5;66;03m# type: ignore[call-arg]  # mypy is not smart enough here\u001b[39;00m\n\u001b[0;32m--> 229\u001b[0m \u001b[38;5;28;01mraise\u001b[39;00m exception_class(message, screen, stacktrace)\n",
      "\u001b[0;31mNoSuchWindowException\u001b[0m: Message: no such window: target window already closed\nfrom unknown error: web view not found\n  (Session info: chrome=129.0.6668.90)\nStacktrace:\n0   chromedriver                        0x0000000102898248 cxxbridge1$str$ptr + 1907280\n1   chromedriver                        0x0000000102890730 cxxbridge1$str$ptr + 1875768\n2   chromedriver                        0x00000001024a4260 cxxbridge1$string$len + 89488\n3   chromedriver                        0x000000010247f728 core::str::slice_error_fail::hbaf5d05fe3921cd2 + 3776\n4   chromedriver                        0x000000010250ee8c cxxbridge1$string$len + 526780\n5   chromedriver                        0x0000000102522218 cxxbridge1$string$len + 605512\n6   chromedriver                        0x00000001024dd12c cxxbridge1$string$len + 322652\n7   chromedriver                        0x00000001024ddd7c cxxbridge1$string$len + 325804\n8   chromedriver                        0x00000001028604d8 cxxbridge1$str$ptr + 1678560\n9   chromedriver                        0x0000000102864e40 cxxbridge1$str$ptr + 1697352\n10  chromedriver                        0x00000001028455ec cxxbridge1$str$ptr + 1568244\n11  chromedriver                        0x0000000102865710 cxxbridge1$str$ptr + 1699608\n12  chromedriver                        0x0000000102836b90 cxxbridge1$str$ptr + 1508248\n13  chromedriver                        0x0000000102881828 cxxbridge1$str$ptr + 1814576\n14  chromedriver                        0x0000000102881980 cxxbridge1$str$ptr + 1814920\n15  chromedriver                        0x00000001028903d0 cxxbridge1$str$ptr + 1874904\n16  libsystem_pthread.dylib             0x0000000199d4ef94 _pthread_start + 136\n17  libsystem_pthread.dylib             0x0000000199d49d34 thread_start + 8\n"
     ]
    }
   ],
   "source": [
    "course_blocks = driver.find_elements(By.XPATH, \"//div[contains(@class,'card catalog'))]\")\n",
    "\n",
    "data= []\n",
    "for block in course_blocks:\n",
    "    course_title = block.find_elements(By.XPATH, \".//h6\")\n",
    "    course_desc = block.find_elements(By.XPATH, \".//p\")\n",
    "\n",
    "    course_title = course_title[0].get_attribute(\"innerText\") if course_title else None\n",
    "    course_desc = course_desc[0].get_attribute(\"innerText\") if course_desc else None\n",
    "\n",
    "    print(course_title)\n",
    "    print(course_desc)"
   ]
  },
  {
   "cell_type": "markdown",
   "id": "fa82d4c3-0199-4736-b61f-4a8e36a24f6c",
   "metadata": {},
   "source": [
    "# Using Proxy with Selenium"
   ]
  },
  {
   "cell_type": "code",
   "execution_count": 328,
   "id": "79e957ff-0f13-46e7-994d-0e61bb923346",
   "metadata": {
    "scrolled": true
   },
   "outputs": [
    {
     "name": "stdout",
     "output_type": "stream",
     "text": [
      "Example Domain\n"
     ]
    }
   ],
   "source": [
    "import requests\n",
    "from bs4 import BeautifulSoup\n",
    "\n",
    "# Proxy bilgileri\n",
    "proxies = {\n",
    "    'http': 'http://47.241.43.44:7777',\n",
    "    'https': 'http://47.241.43.44:7777',\n",
    "}\n",
    "\n",
    "# Proxy kullanarak istek yapma\n",
    "response = requests.get('https://example.com', proxies=proxies)\n",
    "\n",
    "# Beautiful Soup ile içeriği işleme\n",
    "soup = BeautifulSoup(response.content, 'html.parser')\n",
    "\n",
    "print(soup.title.text)"
   ]
  },
  {
   "cell_type": "code",
   "execution_count": null,
   "id": "04404d98-04f9-4ebc-93ef-fc40a643935f",
   "metadata": {},
   "outputs": [],
   "source": []
  },
  {
   "cell_type": "code",
   "execution_count": null,
   "id": "7d38a5b9-dc41-4355-8304-76c101c2ec26",
   "metadata": {},
   "outputs": [],
   "source": []
  },
  {
   "cell_type": "code",
   "execution_count": null,
   "id": "247f751c-9bac-4f69-8ee9-af367d465f0d",
   "metadata": {},
   "outputs": [],
   "source": []
  },
  {
   "cell_type": "markdown",
   "id": "82c2920c-10a5-4127-80bd-e93f9be2ca5d",
   "metadata": {},
   "source": [
    "# Using undetected-chromedriver to Pass Bot Tests"
   ]
  },
  {
   "cell_type": "code",
   "execution_count": null,
   "id": "c0a1fc00-644c-4af9-a52e-d3710a4f372d",
   "metadata": {},
   "outputs": [],
   "source": [
    "pip install undetected_chromedriver"
   ]
  },
  {
   "cell_type": "code",
   "execution_count": null,
   "id": "47a3393c-c8ba-4d27-aa83-d25d1e66525e",
   "metadata": {},
   "outputs": [],
   "source": [
    "import undetected_chromedriver as uc\n",
    "# pip install undetected_chromedriver\n",
    "from selenium import webdriver\n",
    "\n",
    "url = \"https://bot.sannysoft.com\"\n",
    "\n",
    "driver = uc.Chrome()\n",
    "with driver:\n",
    "    driver.get(url)"
   ]
  },
  {
   "cell_type": "code",
   "execution_count": null,
   "id": "bda3af0a-ff24-4828-ae7e-5d5e0eb2a1cb",
   "metadata": {},
   "outputs": [],
   "source": [
    "pip install undetected_chromedriver --timeout=100"
   ]
  },
  {
   "cell_type": "code",
   "execution_count": null,
   "id": "115f9eb1-eb97-4d94-92e7-8d79171cc572",
   "metadata": {},
   "outputs": [],
   "source": [
    "python -m pip install --upgrade pip"
   ]
  },
  {
   "cell_type": "code",
   "execution_count": null,
   "id": "8b27191d-548a-4fac-92e6-8dacf87882e2",
   "metadata": {},
   "outputs": [],
   "source": []
  }
 ],
 "metadata": {
  "kernelspec": {
   "display_name": "Python 3 (ipykernel)",
   "language": "python",
   "name": "python3"
  },
  "language_info": {
   "codemirror_mode": {
    "name": "ipython",
    "version": 3
   },
   "file_extension": ".py",
   "mimetype": "text/x-python",
   "name": "python",
   "nbconvert_exporter": "python",
   "pygments_lexer": "ipython3",
   "version": "3.12.4"
  }
 },
 "nbformat": 4,
 "nbformat_minor": 5
}
